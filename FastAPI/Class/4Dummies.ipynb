{
 "cells": [
  {
   "attachments": {},
   "cell_type": "markdown",
   "metadata": {},
   "source": [
    "# Cómo construir y desplegar un modelo de aprendizaje automático con FastAPI"
   ]
  },
  {
   "attachments": {},
   "cell_type": "markdown",
   "metadata": {},
   "source": [
    "Crear un modelo de aprendizaje automático es solo una parte del proyecto. Para que sea útil en el mundo real, debe estar accesible para los usuarios y desarrolladores. El método más fácil y más utilizado para desplegar modelos de aprendizaje automático es envolverlos dentro de una API REST. Eso es precisamente lo que haremos hoy, con una biblioteca en tendencia: FastAPI."
   ]
  },
  {
   "attachments": {},
   "cell_type": "markdown",
   "metadata": {},
   "source": [
    "FastAPI es una biblioteca moderna y rápida para construir APIs con Python 3.6+. En términos de rendimiento, está al mismo nivel que NodeJS y Go. También es fácil de aprender y viene con documentación interactiva automática."
   ]
  },
  {
   "attachments": {},
   "cell_type": "markdown",
   "metadata": {},
   "source": [
    "Este notebook pretende cubrir lo suficiente de la biblioteca para que puedas empezar a desplegar modelos. Al final de la lectura, sabrás cómo desplegar un modelo de aprendizaje automático y usarlo para hacer predicciones ya sea desde Python, la línea de comandos, u otros lenguajes de programación."
   ]
  },
  {
   "attachments": {},
   "cell_type": "markdown",
   "metadata": {},
   "source": [
    "El notebook se estructura de la siguiente manera:\n",
    "\n",
    "- Instalación de FastAPI y construcción de la primera API\n",
    "- Exploración de la documentación interactiva\n",
    "- Entrenamiento de un modelo de aprendizaje automático\n",
    "- Construcción de una API REST completa\n",
    "- Pruebas\n",
    "- Conclusión"
   ]
  },
  {
   "attachments": {},
   "cell_type": "markdown",
   "metadata": {},
   "source": [
    "## Instalación FastAPI"
   ]
  },
  {
   "attachments": {},
   "cell_type": "markdown",
   "metadata": {},
   "source": [
    "Primero, tendrás que instalar la biblioteca junto con un servidor ASGI - tanto Uvicorn como Hypercorn están bien. Ejecutar esta línea desde la Terminal:"
   ]
  },
  {
   "attachments": {},
   "cell_type": "markdown",
   "metadata": {},
   "source": [
    "> pip install fastapi uvicorn"
   ]
  },
  {
   "attachments": {},
   "cell_type": "markdown",
   "metadata": {},
   "source": [
    "A continuación, puedes crear una carpeta para la API y abrirla en tu editor de código favorito. Para continuar, crea un script de Python llamado app.py. Aquí hay una lista de cosas que tienes que hacer para hacer una API simple con dos endpoints:"
   ]
  },
  {
   "attachments": {},
   "cell_type": "markdown",
   "metadata": {},
   "source": [
    "- Importar las bibliotecas: FastAPI y Uvicorn\n",
    "- Crear una instancia de la clase FastAPI\n",
    "- Declarar la primera ruta: devuelve un simple objeto JSON en la página de índice (http://127.0.0.1:8000)\n",
    "- Declarar la segunda ruta: devuelve un simple objeto JSON que contiene un mensaje personalizado. El parámetro name viene directamente de la URL (por ejemplo, http://127.0.0.1:8000/John)\n",
    "- Ejecutar la API con Uvicorn"
   ]
  },
  {
   "attachments": {},
   "cell_type": "markdown",
   "metadata": {},
   "source": [
    "El siguiente fragmento de código muestra cómo implementar estos cinco pasos:"
   ]
  },
  {
   "cell_type": "code",
   "execution_count": null,
   "metadata": {},
   "outputs": [],
   "source": [
    "# 1. Importación de las bibliotecas\n",
    "import uvicorn\n",
    "from fastapi import FastAPI\n",
    "\n",
    "# 2. Crear el objeto de la aplicación\n",
    "app = FastAPI()\n",
    "\n",
    "# 3. Ruta del índice, se abre automáticamente en http://127.0.0.1:8000\n",
    "@app.get('/')\n",
    "def index():\n",
    "    '''\n",
    "    Este es un docstring...\n",
    "    '''\n",
    "    return {'message': 'Hola, desconocido'}\n",
    "\n",
    "# 4. Ruta con un único parámetro, devuelve el parámetro dentro de un mensaje\n",
    "#    Ubicado en: http://127.0.0.1:8000/CualquierNombre\n",
    "@app.get('/{name}')\n",
    "def get_name(name: str):\n",
    "    '''\n",
    "    Este es el otro docstring...\n",
    "    '''\n",
    "    return {'message': f'Hola, {name}'}\n",
    "\n",
    "# 5. Ejecutar la API con uvicorn\n",
    "#    Se ejecutará en http://127.0.0.1:8000\n",
    "if __name__ == '__main__':\n",
    "    uvicorn.run(app, host='127.0.0.1', port=8000)"
   ]
  },
  {
   "attachments": {},
   "cell_type": "markdown",
   "metadata": {},
   "source": [
    "Luego, para ejecutar nuestra API, abra una ventana de Terminal donde se encuentre app.py. Ahora escribe lo siguiente:"
   ]
  },
  {
   "attachments": {},
   "cell_type": "markdown",
   "metadata": {},
   "source": [
    "> uvicorn app:app --reload"
   ]
  },
  {
   "attachments": {},
   "cell_type": "markdown",
   "metadata": {},
   "source": [
    "## Documentación Interactiva"
   ]
  },
  {
   "attachments": {},
   "cell_type": "markdown",
   "metadata": {},
   "source": [
    "FastAPI también proporciona documentación interactiva para nuestra API. Puedes ver esta documentación en el siguiente enlace: http://127.0.0.1:8000/docs"
   ]
  },
  {
   "attachments": {},
   "cell_type": "markdown",
   "metadata": {},
   "source": [
    "Vamos a probarla.."
   ]
  },
  {
   "attachments": {},
   "cell_type": "markdown",
   "metadata": {},
   "source": [
    "## Entrenando un modelo de ML"
   ]
  },
  {
   "attachments": {},
   "cell_type": "markdown",
   "metadata": {},
   "source": [
    "A continuación, vamos a entrenar un modelo de aprendizaje automático. Para este ejemplo, vamos a utilizar el conjunto de datos Iris y el algoritmo de Random Forest."
   ]
  },
  {
   "attachments": {},
   "cell_type": "markdown",
   "metadata": {},
   "source": [
    "Cuales serian los pasos a seguir?"
   ]
  },
  {
   "attachments": {},
   "cell_type": "markdown",
   "metadata": {},
   "source": [
    "- Importaciones: necesitarás pandas, RandomForestClassifier de scikit-learn, BaseModel de pydantic (verás por qué en el próximo paso) y joblib, para guardar y cargar modelos.\n",
    "- Declara una clase IrisSpecies que herede de BaseModel. Esta clase contiene solo campos que se utilizan para predecir una sola especie de flor (más sobre esto en la próxima sección).\n",
    "- Declara una clase IrisModel, utilizada para entrenar el modelo y hacer predicciones.\n",
    "- Dentro de IrisModel, declara un método llamado _train_model. Se utiliza para realizar el entrenamiento del modelo con el algoritmo de Random Forests. El método devuelve el modelo entrenado.\n",
    "- Dentro de IrisModel, declara un método llamado predict_species. Se utiliza para hacer una predicción a partir de 4 parámetros de entrada (medidas de la flor). El método devuelve la predicción (especie de flor).\n",
    "- Dentro de IrisModel, modifica el constructor, para que cargue el conjunto de datos Iris y entrene el modelo si este no existe en la carpeta. Esto aborda el problema de entrenar un nuevo modelo cada vez. La biblioteca joblib se utiliza para guardar y cargar modelos."
   ]
  },
  {
   "attachments": {},
   "cell_type": "markdown",
   "metadata": {},
   "source": [
    " Crea un archivo llamado Model.py e inserta el siguiente código:"
   ]
  },
  {
   "cell_type": "code",
   "execution_count": null,
   "metadata": {},
   "outputs": [],
   "source": [
    "# 1. Importación de bibliotecas\n",
    "import pandas as pd \n",
    "from sklearn.ensemble import RandomForestClassifier\n",
    "from sklearn.model_selection import train_test_split\n",
    "from pydantic import BaseModel\n",
    "import joblib\n",
    "\n",
    "# 2. Clase que describe las medidas de una única flor\n",
    "class IrisSpecies(BaseModel):\n",
    "    sepal_length: float \n",
    "    sepal_width: float \n",
    "    petal_length: float \n",
    "    petal_width: float\n",
    "\n",
    "# 3. Clase para entrenar el modelo y hacer predicciones\n",
    "class IrisModel:\n",
    "    # Constructor de la clase, carga el conjunto de datos y carga el modelo\n",
    "    # si existe. Si no, llama al método _train_model y \n",
    "    # guarda el modelo\n",
    "    def __init__(self):\n",
    "        self.df = pd.read_csv('iris.csv')\n",
    "        self.model_fname_ = 'iris_model.pkl'\n",
    "        try:\n",
    "            self.model = joblib.load(self.model_fname_)\n",
    "        except Exception as _:\n",
    "            self.model = self._train_model()\n",
    "            joblib.dump(self.model, self.model_fname_)\n",
    "\n",
    "    # 4. Entrena el modelo usando el clasificador RandomForest\n",
    "    def _train_model(self):\n",
    "        X = self.df.drop('variety', axis=1)\n",
    "        y = self.df['variety']\n",
    "        X_train, X_test, y_train, y_test = train_test_split(X, y, random_state=42)\n",
    "        model = RandomForestClassifier(n_estimators=100)\n",
    "        model.fit(X_train, y_train)\n",
    "        return model\n",
    "\n",
    "    # 5. Realiza una predicción utilizando el modelo entrenado\n",
    "    def predict_species(self, sepal_length, sepal_width, petal_length, petal_width):\n",
    "        data_in = [[sepal_length, sepal_width, petal_length, petal_width]]\n",
    "        prediction = self.model.predict(data_in).tolist()\n",
    "        probabitlity = self.model.predict_proba(data_in).tolist()\n",
    "        return prediction, probabitlity\n"
   ]
  },
  {
   "attachments": {},
   "cell_type": "markdown",
   "metadata": {},
   "source": [
    "## Creación de una API REST completa"
   ]
  },
  {
   "attachments": {},
   "cell_type": "markdown",
   "metadata": {},
   "source": [
    "Volvamos al archivo app.py y bórralo todo. Deberíamos empezar de nuevo con un archivo en blanco, aunque la estructura básica será más o menos idéntica a la que tenías antes.\n",
    "\n",
    "Esta vez, declararás solo un punto final, utilizado para predecir la especie de la flor. Este punto final realiza la predicción llamando al método IrisModel.predict_species(), declarado en la sección anterior. El otro cambio significativo es el tipo de solicitud. POST es lo que quieres con las APIs de aprendizaje automático, ya que se considera una mejor práctica enviar parámetros en JSON en lugar de en URL.\n",
    "\n",
    "La lista de tareas para app.py es bastante corta:"
   ]
  },
  {
   "attachments": {},
   "cell_type": "markdown",
   "metadata": {},
   "source": [
    "- Importaciones: necesitarás uvicorn, FastAPI, IrisModel e IrisSpecies del archivo Model.py previamente escrito.\n",
    "- Haz una instancia de FastAPI y de IrisModel.\n",
    "- Declara una función para hacer predicciones, ubicada en http://127.0.0.1:8000/predict. La función toma un objeto de tipo IrisSpecies, lo convierte en un diccionario y lo pasa al método IrisModel.predict_species(). Se devuelve la clase predicha y la probabilidad predicha.\n",
    "- Ejecuta la API utilizando uvicorn."
   ]
  },
  {
   "attachments": {},
   "cell_type": "markdown",
   "metadata": {},
   "source": [
    "Debería quedar algo asi:"
   ]
  },
  {
   "cell_type": "code",
   "execution_count": null,
   "metadata": {},
   "outputs": [],
   "source": [
    "# 1. Importación de bibliotecas\n",
    "\n",
    "import uvicorn\n",
    "from fastapi import FastAPI\n",
    "from Model import IrisModel, IrisSpecies\n",
    "\n",
    "# 2. Crear la aplicación y los objetos del modelo\n",
    "\n",
    "app = FastAPI()\n",
    "model = IrisModel()\n",
    "\n",
    "# 3. Exponer la funcionalidad de predicción, realizar una predicción a partir de los datos JSON pasados\n",
    "#    y devolver la especie de flor predicha con la confianza\n",
    "\n",
    "@app.post('/predict')\n",
    "def predict_species(iris: IrisSpecies):\n",
    "    data = iris.dict()\n",
    "    prediction, probability = model.predict_species(\n",
    "        data['sepal_length'], data['sepal_width'], data['petal_length'], data['petal_width']\n",
    "    )\n",
    "    return {\n",
    "        'prediction': prediction,\n",
    "        'probability': probability\n",
    "    }\n",
    "\n",
    "# 4. Ejecutar la API con uvicorn\n",
    "#    Se ejecutará en http://127.0.0.1:8000\n",
    "\n",
    "if __name__ == '__main__':\n",
    "    uvicorn.run(app, host='127.0.0.1', port=8000)"
   ]
  },
  {
   "attachments": {},
   "cell_type": "markdown",
   "metadata": {},
   "source": [
    "## Test"
   ]
  },
  {
   "attachments": {},
   "cell_type": "markdown",
   "metadata": {},
   "source": [
    "Para ejecutar la API, una vez más, introduce el siguiente texto en la Terminal: "
   ]
  },
  {
   "attachments": {},
   "cell_type": "markdown",
   "metadata": {},
   "source": [
    "> uvicorn app:app -–reload"
   ]
  },
  {
   "attachments": {},
   "cell_type": "markdown",
   "metadata": {},
   "source": [
    "Ahora podemos ver todo en la interfaz de documentación"
   ]
  },
  {
   "attachments": {},
   "cell_type": "markdown",
   "metadata": {},
   "source": [
    "O incluso a través de cualquier lenguaje de programación (ejemplo en Python):"
   ]
  },
  {
   "cell_type": "code",
   "execution_count": 1,
   "metadata": {},
   "outputs": [
    {
     "name": "stdout",
     "output_type": "stream",
     "text": [
      "b'{\"prediction\":[\"Virginica\"],\"probability\":[[0.0,0.2,0.8]]}'\n"
     ]
    }
   ],
   "source": [
    "import requests \n",
    "\n",
    "new_measurement = {\n",
    "    'sepal_length': 5.7,\n",
    "    'sepal_width': 3.1,\n",
    "    'petal_length': 4.9,\n",
    "    'petal_width': 2.2\n",
    "}\n",
    "\n",
    "response = requests.post('http://127.0.0.1:8000/predict', json=new_measurement)\n",
    "print(response.content)"
   ]
  }
 ],
 "metadata": {
  "kernelspec": {
   "display_name": "este",
   "language": "python",
   "name": "python3"
  },
  "language_info": {
   "codemirror_mode": {
    "name": "ipython",
    "version": 3
   },
   "file_extension": ".py",
   "mimetype": "text/x-python",
   "name": "python",
   "nbconvert_exporter": "python",
   "pygments_lexer": "ipython3",
   "version": "3.9.5"
  },
  "orig_nbformat": 4
 },
 "nbformat": 4,
 "nbformat_minor": 2
}
