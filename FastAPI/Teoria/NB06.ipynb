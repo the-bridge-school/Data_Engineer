{
 "cells": [
  {
   "attachments": {},
   "cell_type": "markdown",
   "metadata": {},
   "source": [
    "## Manejo de errores"
   ]
  },
  {
   "attachments": {},
   "cell_type": "markdown",
   "metadata": {},
   "source": [
    "Anteriormente en este capítulo, aprendimos qué son los códigos de estado y cómo son útiles para informar al cliente sobre el estado de la solicitud. Las solicitudes pueden devolver respuestas erróneas, y estas respuestas pueden ser feas o tener información insuficiente sobre la causa del fallo. Los errores en las solicitudes pueden resultar de intentos de acceder a recursos inexistentes, páginas protegidas sin permisos suficientes, e incluso errores del servidor. Los errores en FastAPI se manejan levantando una excepción utilizando la clase HTTPException de FastAPI.\n",
    "\n",
    "La clase HTTPException toma tres argumentos:\n",
    "-  status_code: El código de estado que se devolverá para esta interrupción.\n",
    "-  detail: Mensaje que acompaña a ser enviado al cliente.\n",
    "- headers: Un parámetro opcional para respuestas que requieran encabezados.\n",
    "\n",
    "En nuestras definiciones de ruta de tareas, devolvemos un mensaje cuando una tarea no se puede encontrar. Lo actualizaremos para que levante la excepción HTTPException. HTTPException nos permite devolver un código de respuesta de error adecuado.\n",
    "\n",
    "En nuestra aplicación actual, recuperar una tarea que no existe devuelve un código de estado de respuesta 200 en lugar de un código de estado de respuesta 404 en http://127.0.0.1:8000/docs:\n",
    "\n",
    "Al actualizar las rutas para usar la clase HTTPException, podemos devolver detalles relevantes en nuestra respuesta. En todo.py, actualiza las rutas para recuperar, actualizar y eliminar una tarea:\n"
   ]
  },
  {
   "cell_type": "code",
   "execution_count": null,
   "metadata": {},
   "outputs": [],
   "source": [
    "from fastapi import APIRouter, Path, HTTPException, status"
   ]
  },
  {
   "cell_type": "code",
   "execution_count": null,
   "metadata": {},
   "outputs": [],
   "source": [
    "@todo_router.get(\"/todo/{todo_id}\")\n",
    "async def get_single_todo(todo_id: int = Path(..., title=\"The ID of the todo to retrieve.\")) -> dict:\n",
    "    for todo in todo_list:\n",
    "        if todo.id == todo_id:\n",
    "            return {\n",
    "                \"todo\": todo\n",
    "                }\n",
    "    raise HTTPException(\n",
    "        status_code=status.HTTP_404_NOT_FOUND,\n",
    "        detail=\"Todo with supplied ID doesn't exist\",\n",
    "        )\n",
    "\n",
    "@todo_router.put(\"/todo/{todo_id}\")\n",
    "async def update_todo(todo_data: TodoItem, todo_id: int = Path(..., title=\"The ID of the todo to be updated.\")) -> dict:\n",
    "    for todo in todo_list:\n",
    "        if todo.id == todo_id:\n",
    "            todo.item = todo_data.item\n",
    "            return {\n",
    "                \"message\": \"Todo updated successfully.\"\n",
    "            }\n",
    "    raise HTTPException(\n",
    "        status_code=status.HTTP_404_NOT_FOUND,\n",
    "        detail=\"Todo with supplied ID doesn't exist\",\n",
    "        )\n",
    "\n",
    "@todo_router.delete(\"/todo/{todo_id}\")\n",
    "async def delete_single_todo(todo_id: int) -> dict:\n",
    "    for index in range(len(todo_list)):\n",
    "        todo = todo_list[index]\n",
    "        if todo.id == todo_id:\n",
    "            todo_list.pop(index)\n",
    "            return {\n",
    "                \"message\": \"Todo deleted successfully.\"\n",
    "            }\n",
    "    raise HTTPException(\n",
    "        status_code=status.HTTP_404_NOT_FOUND,\n",
    "        detail=\"Todo with supplied ID doesn't exist\",\n",
    "    )"
   ]
  },
  {
   "attachments": {},
   "cell_type": "markdown",
   "metadata": {},
   "source": [
    "Por último, podemos declarar el código de estado HTTP para anular el código de estado predeterminado para las operaciones exitosas añadiendo el argumento status_code a la función decoradora:"
   ]
  },
  {
   "cell_type": "code",
   "execution_count": null,
   "metadata": {},
   "outputs": [],
   "source": [
    "@todo_router.post(\"/todo\", status_code=201)\n",
    "async def add_todo(todo: Todo) -> dict:\n",
    "    todo_list.append(todo)\n",
    "    return {\n",
    "        \"message\": \"Todo added successfully.\"\n",
    "        }"
   ]
  },
  {
   "attachments": {},
   "cell_type": "markdown",
   "metadata": {},
   "source": [
    "<div>\n",
    "    <a href=\"Intro.py\">\n",
    "        <img src=\"img/return.png\" alt=\"return\" title=\"return\" width=\"75\" style=\"float: left;\" />\n",
    "    </a>\n",
    "    <a href=\"./NB07.ipynb\">\n",
    "        <img src=\"img/forward.png\" alt=\"forward\" title=\"forward\" width=\"75\" style=\"float: right;\" />\n",
    "    </a>\n",
    "</div>"
   ]
  }
 ],
 "metadata": {
  "language_info": {
   "name": "python"
  },
  "orig_nbformat": 4
 },
 "nbformat": 4,
 "nbformat_minor": 2
}
