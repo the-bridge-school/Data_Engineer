{
 "cells": [
  {
   "attachments": {},
   "cell_type": "markdown",
   "metadata": {},
   "source": [
    "# Modelos de Respuesta y Manejo de Errores\n",
    "\n",
    "Los modelos de respuesta sirven como plantillas para devolver datos desde una ruta de API. Están construidos sobre Pydantic para renderizar adecuadamente una respuesta a las solicitudes enviadas al servidor.\n",
    "\n",
    "El manejo de errores incluye las prácticas y actividades involucradas en manejar errores de una aplicación. Estas prácticas incluyen devolver códigos de estado de error adecuados y mensajes de error.\n",
    "\n",
    "Al final de esta clase, sabrás qué es una respuesta y de qué consta, y sabrás sobre el manejo de errores y cómo manejar errores en tu aplicación FastAPI. \n",
    "\n",
    "También sabrás cómo construir modelos de respuesta para las respuestas a las solicitudes utilizando Pydantic.\n",
    "\n",
    "Cubriremos los siguientes temas:\n",
    "\n",
    "• Respuestas en FastAPI\n",
    "• Construcción de un modelo de respuesta\n",
    "• Manejo de errores\n",
    "\n",
    "\n",
    "\n",
    "\n"
   ]
  },
  {
   "attachments": {},
   "cell_type": "markdown",
   "metadata": {},
   "source": [
    "## Comprendiendo las respuestas en FastAPI\n",
    "\n",
    "Las respuestas son una parte integral del ciclo de vida de una API. Las respuestas son la retroalimentación recibida al interactuar con una ruta de API a través de cualquiera de los métodos HTTP estándar. Una respuesta de API suele estar en formato JSON o XML, pero también puede ser en forma de un documento. Una respuesta consta de un encabezado y un cuerpo."
   ]
  },
  {
   "attachments": {},
   "cell_type": "markdown",
   "metadata": {},
   "source": [
    "### ¿Qué es un encabezado de respuesta?\n",
    "\n",
    "Un encabezado de respuesta consta del estado de la solicitud e información adicional para guiar la entrega del cuerpo de la respuesta. Un ejemplo de la información contenida en el encabezado de respuesta es el Content-Type, que indica al cliente el tipo de contenido devuelto.\n",
    "\n",
    "### ¿Qué es un cuerpo de respuesta?\n",
    "\n",
    "El cuerpo de la respuesta, por otro lado, es la información solicitada al servidor por el cliente. El cuerpo de la respuesta se determina a partir de la variable de encabezado Content-Type y la más comúnmente utilizada es application/json. En el capítulo anterior, la lista de tareas a realizar devueltas es el cuerpo de la respuesta.\n",
    "\n",
    "Ahora que has aprendido qué son las respuestas y de qué constan, veamos los códigos de estado HTTP incluidos en las respuestas en la siguiente sección.\n",
    "\n",
    "### Códigos de estado\n",
    "\n",
    "Los códigos de estado son códigos cortos únicos emitidos por un servidor en respuesta a una solicitud del cliente. Los códigos de estado de respuesta se agrupan en cinco categorías, cada una denotando una respuesta diferente:\n",
    "\n",
    "-  1XX: Se ha recibido la solicitud.\n",
    "-  2XX: La solicitud fue exitosa.\n",
    "-  3XX: Solicitud redirigida.\n",
    "-  4XX: Hay un error por parte del cliente.\n",
    "-  5XX: Hay un error por parte del servidor.\n",
    "\n",
    "Puede encontrarse una lista completa de códigos de estado HTTP en https://httpstatuses.com/.\n",
    "\n",
    "El primer dígito de un código de estado define su categoría. Los códigos de estado comunes incluyen 200 para una solicitud exitosa, 404 para una solicitud no encontrada, y 500 indicando un error interno del servidor.\n",
    "\n",
    "La práctica estándar seguida en la construcción de aplicaciones web, independientemente del marco de trabajo, es devolver códigos de estado adecuados para eventos individuales. Un código de estado 400 no debería devolverse para un error del servidor. Del mismo modo, un código de estado 200 no debería devolverse para una operación de solicitud fallida.\n",
    "\n",
    "Ahora que has aprendido qué son los códigos de estado, aprendamos cómo construir modelos de respuesta."
   ]
  },
  {
   "attachments": {},
   "cell_type": "markdown",
   "metadata": {},
   "source": [
    "## Construyendo modelos de respuesta\n",
    "\n",
    "Establecimos el propósito de los modelos de respuesta al principio de este capítulo. También aprendiste cómo construir modelos en el capítulo anterior usando Pydantic. Los modelos de respuesta también se basan en Pydantic pero sirven para un propósito diferente.\n",
    "\n",
    "En la definición de rutas, tenemos lo siguiente, por ejemplo:"
   ]
  },
  {
   "cell_type": "code",
   "execution_count": null,
   "metadata": {},
   "outputs": [],
   "source": [
    "@app.get(\"/todo\")\n",
    "async def retrieve_todo() -> dict:\n",
    "    return {\n",
    "        \"todos\": todo_list\n",
    "        }\n"
   ]
  },
  {
   "attachments": {},
   "cell_type": "markdown",
   "metadata": {},
   "source": [
    "La ruta devuelve todo el contenido almacenado en la matriz de todos. Para especificar la información a devolver, tendríamos que separar los datos a mostrar o introducir una lógica adicional. Afortunadamente, podemos crear un modelo que contenga los campos que queremos que se devuelvan y añadirlo a nuestra definición de ruta usando el argumento response_model.\n",
    "\n",
    "Vamos a actualizar la ruta que recupera todas las tareas para devolver una matriz de solo los elementos de las tareas y no los IDs. Empecemos por definir una nueva clase de modelo para devolver una lista de elementos de tareas en model.py:"
   ]
  },
  {
   "cell_type": "code",
   "execution_count": null,
   "metadata": {},
   "outputs": [],
   "source": [
    "from typing import List\n",
    "\n",
    "class TodoItem(BaseModel):\n",
    "    item: str\n",
    "    class Config:\n",
    "        schema_extra = {\n",
    "        \"example\": {\n",
    "        \"item\": \"Read the next chapter of the book\"\n",
    "        }\n",
    "        }\n",
    "class TodoItems(BaseModel):\n",
    "    todos: List[TodoItem]\n",
    "    class Config:\n",
    "        schema_extra = {\n",
    "            \"example\": {\n",
    "                \"todos\": [\n",
    "                {\n",
    "                    \"item\": \"Example schema 1!\"\n",
    "                },\n",
    "                {\n",
    "                    \"item\": \"Example schema 2!\"\n",
    "                }\n",
    "                ]\n",
    "            }\n",
    "        }"
   ]
  },
  {
   "attachments": {},
   "cell_type": "markdown",
   "metadata": {},
   "source": [
    "En el bloque de código anterior, hemos definido un nuevo modelo, TodoItems, que devuelve una lista de variables contenidas en el modelo TodoItem. Actualicemos nuestra ruta en todo.py añadiendo un modelo de respuesta a ella:"
   ]
  },
  {
   "cell_type": "code",
   "execution_count": null,
   "metadata": {},
   "outputs": [],
   "source": [
    "from model import Todo, TodoItem, TodoItems"
   ]
  },
  {
   "cell_type": "code",
   "execution_count": null,
   "metadata": {},
   "outputs": [],
   "source": [
    "@todo_router.get(\"/todo\", response_model=TodoItems)\n",
    "async def retrieve_todo() -> dict:\n",
    "    return {\n",
    "        \"todos\": todo_list\n",
    "    }"
   ]
  },
  {
   "attachments": {},
   "cell_type": "markdown",
   "metadata": {},
   "source": [
    "Ahora lo podemos probar"
   ]
  },
  {
   "attachments": {},
   "cell_type": "markdown",
   "metadata": {},
   "source": [
    "```\n",
    "curl -X POST \"http://localhost:8080/todo\" -H \"accept: application/json\" -H \"Content-Type: application/json\" -d \"{ \"id\": 1, \"item\": \"¡Este todo se recuperará sin exponer mi ID!\" }\"\n",
    "```"
   ]
  },
  {
   "attachments": {},
   "cell_type": "markdown",
   "metadata": {},
   "source": [
    "```\n",
    "curl -X GET \"http://localhost:8080/todo\" -H \"accept: application/json\"\n",
    "```"
   ]
  },
  {
   "attachments": {},
   "cell_type": "markdown",
   "metadata": {},
   "source": [
    "<div>\n",
    "    <a href=\"Intro.py\">\n",
    "        <img src=\"img/return.png\" alt=\"return\" title=\"return\" width=\"75\" style=\"float: left;\" />\n",
    "    </a>\n",
    "    <a href=\"./NB06.ipynb\">\n",
    "        <img src=\"img/forward.png\" alt=\"forward\" title=\"forward\" width=\"75\" style=\"float: right;\" />\n",
    "    </a>\n",
    "</div>"
   ]
  }
 ],
 "metadata": {
  "language_info": {
   "name": "python"
  },
  "orig_nbformat": 4
 },
 "nbformat": 4,
 "nbformat_minor": 2
}
