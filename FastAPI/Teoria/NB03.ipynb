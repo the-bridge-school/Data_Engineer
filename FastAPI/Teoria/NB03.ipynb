{
 "cells": [
  {
   "attachments": {},
   "cell_type": "markdown",
   "metadata": {},
   "source": [
    "## Documentación Automática de FastAPI"
   ]
  },
  {
   "attachments": {},
   "cell_type": "markdown",
   "metadata": {},
   "source": [
    "FastAPI genera definiciones de esquema JSON para nuestros modelos y documenta automáticamente nuestras rutas, incluyendo su tipo de cuerpo de solicitud, parámetros de ruta y de consulta, y modelos de respuesta. Esta documentación es de dos tipos:\n",
    "\n",
    "Swagger\n",
    "La documentación alojada por Swagger proporciona un entorno interactivo para probar nuestra API. Puedes acceder a ella añadiendo /docs a la dirección de la aplicación. En tu navegador web, visita la URL http://127.0.0.1:8000/docs\n",
    "\n",
    "ReDoc\n",
    "La documentación de ReDoc ofrece una presentación más detallada y directa de los modelos, rutas y API. Puedes acceder a ella añadiendo /redoc a la dirección de la aplicación. En tu navegador web, visita la URL http://127.0.0.1:8000/redoc"
   ]
  },
  {
   "attachments": {},
   "cell_type": "markdown",
   "metadata": {},
   "source": [
    "Para generar correctamente el Esquema JSON, puedes establecer ejemplos de cómo un usuario llenará datos en el modelo. Un ejemplo se establece incorporando una clase Config en una clase de modelo. Vamos a añadir un esquema de ejemplo en nuestro modelo Todo:"
   ]
  },
  {
   "cell_type": "code",
   "execution_count": null,
   "metadata": {},
   "outputs": [],
   "source": [
    "class Todo(BaseModel):\n",
    "    id: int\n",
    "    item: str\n",
    "    class Config:\n",
    "        Schema_extra = {\n",
    "        \"Example\": {\n",
    "            \"id\": 1,\n",
    "            \"item\": \"¡Esquema de ejemplo!\"\n",
    "            }\n",
    "        }"
   ]
  },
  {
   "attachments": {},
   "cell_type": "markdown",
   "metadata": {},
   "source": [
    "Hemos aprendido cómo añadir datos de esquema de ejemplo para guiar a los usuarios sobre cómo enviar solicitudes a la API y probar la aplicación desde la documentación interactiva de Swagger. La documentación proporcionada por ReDoc no se queda atrás, ya que sirve como base de conocimientos sobre cómo utilizar la API."
   ]
  },
  {
   "attachments": {},
   "cell_type": "markdown",
   "metadata": {},
   "source": [
    "<div>\n",
    "    <a href=\"Intro.py\">\n",
    "        <img src=\"img/return.png\" alt=\"return\" title=\"return\" width=\"75\" style=\"float: left;\" />\n",
    "    </a>\n",
    "    <a href=\"./NB04.ipynb\">\n",
    "        <img src=\"img/forward.png\" alt=\"forward\" title=\"forward\" width=\"75\" style=\"float: right;\" />\n",
    "    </a>\n",
    "</div>"
   ]
  }
 ],
 "metadata": {
  "language_info": {
   "name": "python"
  },
  "orig_nbformat": 4
 },
 "nbformat": 4,
 "nbformat_minor": 2
}
