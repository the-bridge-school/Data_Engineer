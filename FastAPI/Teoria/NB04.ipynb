{
 "cells": [
  {
   "attachments": {},
   "cell_type": "markdown",
   "metadata": {},
   "source": [
    "# Crear una aplicación CRUD simple"
   ]
  },
  {
   "attachments": {},
   "cell_type": "markdown",
   "metadata": {},
   "source": [
    "Hemos creado rutas para crear y recuperar tareas pendientes. Vamos a construir las rutas para actualizar y eliminar la tarea pendiente añadida. Comencemos creando un modelo para el cuerpo de la solicitud para la ruta UPDATE en model.py:"
   ]
  },
  {
   "cell_type": "code",
   "execution_count": null,
   "metadata": {},
   "outputs": [],
   "source": [
    "class TodoItem(BaseModel):\n",
    "    item: str\n",
    "    class Config:\n",
    "        schema_extra = {\n",
    "            \"example\": {\n",
    "                \"item\": \"Lee el próximo capítulo del libro\"\n",
    "            }\n",
    "        }"
   ]
  },
  {
   "attachments": {},
   "cell_type": "markdown",
   "metadata": {},
   "source": [
    "A continuación, escribamos la ruta para actualizar una tarea pendiente en todo.py:"
   ]
  },
  {
   "cell_type": "code",
   "execution_count": null,
   "metadata": {},
   "outputs": [],
   "source": [
    "from fastapi import APIRouter, Path\n",
    "from model import Todo, TodoItem\n",
    "\n",
    "todo_router = APIRouter()\n",
    "todo_list = []\n",
    "\n",
    "@todo_router.post(\"/todo\")\n",
    "async def add_todo(todo: Todo) -> dict:\n",
    "    todo_list.append(todo)\n",
    "    return {\n",
    "        \"message\": \"Tarea añadida con éxito.\"\n",
    "    }\n",
    "\n",
    "@todo_router.get(\"/todo\")\n",
    "async def retrieve_todo() -> dict:\n",
    "    return {\n",
    "        \"todos\": todo_list\n",
    "    }\n",
    "\n",
    "@todo_router.get(\"/todo/{todo_id}\")\n",
    "async def get_single_todo(todo_id: int = Path(..., title=\"El ID de la tarea a recuperar\")) -> dict:\n",
    "    for todo in todo_list:\n",
    "        if todo.id == todo_id:\n",
    "            return {\n",
    "                \"todo\": todo\n",
    "            }\n",
    "    return {\n",
    "        \"message\": \"La tarea con el ID proporcionado no existe.\"\n",
    "    }\n",
    "\n",
    "@todo_router.put(\"/todo/{todo_id}\")\n",
    "async def update_todo(todo_data: TodoItem, todo_id: int = Path(..., title=\"El ID de la tarea a actualizar\")) -> dict:\n",
    "    for todo in todo_list:\n",
    "        if todo.id == todo_id:\n",
    "            todo.item = todo_data.item\n",
    "            return {\n",
    "                \"message\": \"Tarea actualizada con éxito.\"\n",
    "            }\n",
    "    return {\n",
    "        \"message\": \"La tarea con el ID proporcionado no existe.\"\n",
    "    }\n"
   ]
  },
  {
   "attachments": {},
   "cell_type": "markdown",
   "metadata": {},
   "source": [
    "Probemos la nueva ruta. Primero, añadamos una tarea:"
   ]
  },
  {
   "cell_type": "code",
   "execution_count": null,
   "metadata": {
    "vscode": {
     "languageId": "javascript"
    }
   },
   "outputs": [],
   "source": [
    "{\n",
    "\"id\": 1,\n",
    "\"item\": \"Esquema de ejemplo!\"\n",
    "}'"
   ]
  },
  {
   "attachments": {},
   "cell_type": "markdown",
   "metadata": {},
   "source": [
    "A continuación, actualicemos la tarea enviando una solicitud PUT:"
   ]
  },
  {
   "cell_type": "code",
   "execution_count": null,
   "metadata": {
    "vscode": {
     "languageId": "javascript"
    }
   },
   "outputs": [],
   "source": [
    "{\n",
    "\"item\": \"Leer el próximo capítulo del libro.\"\n",
    "}'"
   ]
  },
  {
   "attachments": {},
   "cell_type": "markdown",
   "metadata": {},
   "source": [
    "Verifiquemos que nuestra tarea ha sido realmente actualizada:"
   ]
  },
  {
   "attachments": {},
   "cell_type": "markdown",
   "metadata": {},
   "source": [
    "Desde la respuesta devuelta, podemos ver que la tarea ha sido actualizada con éxito. Ahora, creemos la ruta para eliminar una tarea y todas las tareas.\n",
    "\n",
    "En todo.py, actualice las rutas:"
   ]
  },
  {
   "cell_type": "code",
   "execution_count": null,
   "metadata": {},
   "outputs": [],
   "source": [
    "@todo_router.delete(\"/todo/{todo_id}\")\n",
    "async def delete_single_todo(todo_id: int) -> dict:\n",
    "    for index in range(len(todo_list)):\n",
    "        todo = todo_list[index]\n",
    "        if todo.id == todo_id:\n",
    "            todo_list.pop(index)\n",
    "            return {\n",
    "                \"message\": \"Tarea eliminada con éxito.\"\n",
    "            }\n",
    "    return {\n",
    "        \"message\": \"La tarea con el ID proporcionado no existe.\"\n",
    "    }\n",
    "\n",
    "@todo_router.delete(\"/todo\")\n",
    "async def delete_all_todo() -> dict:\n",
    "    todo_list.clear()\n",
    "    return {\n",
    "        \"message\": \"Todas las tareas eliminadas con éxito.\"\n",
    "    }"
   ]
  },
  {
   "attachments": {},
   "cell_type": "markdown",
   "metadata": {},
   "source": [
    "Probemos la ruta de eliminación. Primero, añadimos una tarea:"
   ]
  },
  {
   "cell_type": "code",
   "execution_count": null,
   "metadata": {
    "vscode": {
     "languageId": "javascript"
    }
   },
   "outputs": [],
   "source": [
    "{\n",
    "    \"id\": 1,\n",
    "    \"item\": \"Esquema de ejemplo!\"\n",
    "    }'"
   ]
  },
  {
   "attachments": {},
   "cell_type": "markdown",
   "metadata": {},
   "source": [
    "A continuación, eliminamos la tarea:"
   ]
  },
  {
   "attachments": {},
   "cell_type": "markdown",
   "metadata": {},
   "source": [
    "{\n",
    "\"message\": \"Tarea eliminada con éxito.\"\n",
    "}"
   ]
  },
  {
   "attachments": {},
   "cell_type": "markdown",
   "metadata": {},
   "source": [
    "Verifiquemos que la tarea ha sido eliminada enviando una solicitud GET para recuperar la tarea:"
   ]
  },
  {
   "attachments": {},
   "cell_type": "markdown",
   "metadata": {},
   "source": [
    "{\n",
    "\"message\": \"La tarea con el ID proporcionado no existe.\"\n",
    "}"
   ]
  },
  {
   "attachments": {},
   "cell_type": "markdown",
   "metadata": {},
   "source": [
    "En este notebook, hemos construido una aplicación de tareas pendientes CRUD combinando las lecciones aprendidas en las secciones anteriores. Al validar nuestro cuerpo de solicitud, pudimos asegurar que se envían los datos adecuados a la API. La inclusión de parámetros de ruta en nuestras rutas también nos permitió recuperar y eliminar una única tarea de nuestra lista de tareas pendientes."
   ]
  },
  {
   "attachments": {},
   "cell_type": "markdown",
   "metadata": {},
   "source": [
    "<div>\n",
    "    <a href=\"Intro.py\">\n",
    "        <img src=\"img/return.png\" alt=\"return\" title=\"return\" width=\"75\" style=\"float: left;\" />\n",
    "    </a>\n",
    "    <a href=\"./NB05.ipynb\">\n",
    "        <img src=\"img/forward.png\" alt=\"forward\" title=\"forward\" width=\"75\" style=\"float: right;\" />\n",
    "    </a>\n",
    "</div>"
   ]
  }
 ],
 "metadata": {
  "language_info": {
   "name": "python"
  },
  "orig_nbformat": 4
 },
 "nbformat": 4,
 "nbformat_minor": 2
}
