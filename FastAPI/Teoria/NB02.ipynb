{
 "cells": [
  {
   "attachments": {},
   "cell_type": "markdown",
   "metadata": {},
   "source": [
    "# Enrutamiento en FastAPI"
   ]
  },
  {
   "attachments": {},
   "cell_type": "markdown",
   "metadata": {},
   "source": [
    "El enrutamiento es una parte esencial de la construcción de una aplicación web. El enrutamiento en FastAPI es flexible y sin complicaciones. El enrutamiento es el proceso de manejar las **solicitudes** **HTTP** enviadas desde un cliente al servidor. Las solicitudes HTTP se envían a rutas definidas, que tienen manejadores definidos para procesar las solicitudes y responder. Estos manejadores se llaman manejadores de ruta.\n",
    "\n",
    "Al final de este notebook, sabrás cómo crear rutas utilizando la instancia de ``APIRouter`` y conectarla a la aplicación principal de **FastAPI**. También aprenderás qué son los modelos y cómo usarlos para validar los cuerpos de las solicitudes. También aprenderás qué son los parámetros de ruta y de consulta y cómo usarlos en tu aplicación FastAPI. El conocimiento del enrutamiento en FastAPI es esencial para construir aplicaciones de pequeña y gran escala.\n",
    "En este notebook, cubriremos los siguientes temas:\n",
    "\n",
    "-  Enrutamiento en FastAPI\n",
    "-  La clase APIRouter\n",
    "-  Validación utilizando modelos Pydantic\n",
    "-  Parámetros de ruta y de consulta\n",
    "-  Cuerpo de la solicitud\n",
    "-  Construcción de una sencilla aplicación CRUD\n",
    "\n",
    "En términos más simples:\n",
    "\n",
    "El enrutamiento es crucial cuando construyes una aplicación web. En FastAPI, es sencillo y flexible. Se trata de cómo se manejan las solicitudes HTTP de un cliente al servidor. Al final de este notebook, podrás crear rutas, validar datos, y usar parámetros en tu aplicación FastAPI. Estas habilidades son fundamentales para construir cualquier tipo de aplicación. Cubriremos el enrutamiento, la clase APIRouter, la validación con modelos Pydantic, parámetros de ruta y de consulta, y cómo construir una aplicación CRUD sencilla."
   ]
  },
  {
   "attachments": {},
   "cell_type": "markdown",
   "metadata": {},
   "source": [
    "## Comprendiendo el enrutamiento en FastAPI\n",
    "\n",
    "Una ruta se define para aceptar solicitudes de un método de solicitud HTTP y opcionalmente tomar parámetros. Cuando se envía una solicitud a una ruta, la aplicación verifica si la ruta está definida antes de procesar la solicitud en el manejador de rutas. Por otro lado, un manejador de rutas es una función que procesa la solicitud enviada al servidor. Un ejemplo de un manejador de rutas es una función que recupera registros de una base de datos cuando se envía una solicitud a un enrutador a través de una ruta.\n",
    "\n",
    "Ejemplo de enrutamiento\n",
    "\n",
    "En la sección de estructura del proyecto en el notebook anterior, construimos una aplicación con una sola ruta. El enrutamiento fue manejado por la instancia FastAPI() iniciada en la variable app:"
   ]
  },
  {
   "cell_type": "code",
   "execution_count": null,
   "metadata": {},
   "outputs": [],
   "source": [
    "from fastapi import FastAPI\n",
    "app = FastAPI()\n",
    "\n",
    "@app.get(\"/\")\n",
    "async def welcome() -> dict:\n",
    "    return { \"message\": \"Hello World\"}"
   ]
  },
  {
   "attachments": {},
   "cell_type": "markdown",
   "metadata": {},
   "source": [
    "La herramienta uvicorn se dirigió a la instancia de FastAPI para servir la aplicación:"
   ]
  },
  {
   "attachments": {},
   "cell_type": "markdown",
   "metadata": {},
   "source": [
    "> uvicorn app:app --port 8080 --reload"
   ]
  },
  {
   "attachments": {},
   "cell_type": "markdown",
   "metadata": {},
   "source": [
    "Tradicionalmente, la instancia FastAPI() se puede usar para operaciones de enrutamiento, como se vio anteriormente. Sin embargo, este método se utiliza comúnmente en aplicaciones que requieren un solo camino durante el enrutamiento. En una situación en la que se crea una ruta separada que realiza una función única usando la instancia FastAPI(), la aplicación no podrá ejecutar ambas rutas, ya que uvicorn solo puede ejecutar un punto de entrada."
   ]
  },
  {
   "attachments": {},
   "cell_type": "markdown",
   "metadata": {},
   "source": [
    "¿Cómo manejas entonces aplicaciones extensas que requieren una serie de rutas que realizan diferentes funciones? Veremos cómo la clase ``APIRouter`` ayuda con múltiples enrutamientos en la siguiente sección."
   ]
  },
  {
   "attachments": {},
   "cell_type": "markdown",
   "metadata": {},
   "source": [
    "## Enrutamiento con la clase APIRouter\n",
    "\n",
    "La clase APIRouter pertenece al paquete FastAPI y crea operaciones de ruta para múltiples rutas. La clase APIRouter fomenta la modularidad y organización del enrutamiento de aplicaciones y la lógica.\n",
    "\n",
    "La clase APIRouter se importa del paquete fastapi y se crea una instancia. Los métodos de ruta se crean y distribuyen desde la instancia creada, de la siguiente manera:"
   ]
  },
  {
   "cell_type": "code",
   "execution_count": null,
   "metadata": {},
   "outputs": [],
   "source": [
    "from fastapi import APIRouter\n",
    "router = APIRouter()\n",
    "\n",
    "@router.get(\"/hello\")\n",
    "async def say_hello() -> dict:\n",
    "    return {\"message\": \"Hello!\"}"
   ]
  },
  {
   "attachments": {},
   "cell_type": "markdown",
   "metadata": {},
   "source": [
    "Vamos a crear una nueva operación de ruta con la clase APIRouter para crear y recuperar \"todos\". En la carpeta \"todos\" del notebook anterior, crea un nuevo archivo, [todo.py](../app/todos/todo.py):"
   ]
  },
  {
   "attachments": {},
   "cell_type": "markdown",
   "metadata": {},
   "source": [
    "Comenzaremos importando la clase APIRouter del paquete fastapi y creando una instancia:"
   ]
  },
  {
   "cell_type": "code",
   "execution_count": null,
   "metadata": {},
   "outputs": [],
   "source": [
    "from fastapi import APIRouter\n",
    "todo_router = APIRouter()"
   ]
  },
  {
   "attachments": {},
   "cell_type": "markdown",
   "metadata": {},
   "source": [
    "A continuación, crearemos una base de datos temporal en la aplicación, junto con dos rutas para la adición y recuperación de \"todos\":"
   ]
  },
  {
   "cell_type": "code",
   "execution_count": null,
   "metadata": {},
   "outputs": [],
   "source": [
    "todo_list = []\n",
    "\n",
    "@todo_router.post(\"/todo\")\n",
    "async def add_todo(todo: dict) -> dict:\n",
    "    todo_list.append(todo)\n",
    "    return {\"message\": \"Todo added successfully\"}\n",
    "\n",
    "@todo_router.get(\"/todo\")\n",
    "async def retrieve_todos() -> dict:\n",
    "    return {\"todos\": todo_list}\n"
   ]
  },
  {
   "attachments": {},
   "cell_type": "markdown",
   "metadata": {},
   "source": [
    "En el bloque de código anterior, hemos creado dos rutas para nuestras operaciones de \"todo\". La primera ruta agrega un \"todo\" a la lista de \"todo\" a través del método POST, y la segunda ruta recupera todos los elementos \"todo\" de la lista de \"todo\" a través del método GET.\n",
    "\n",
    "Hemos completado las operaciones de ruta para la ruta \"todo\". El siguiente paso es ejecutar la aplicación a producción para que podamos probar las operaciones de ruta definidas.\n",
    "\n",
    "La clase APIRouter funciona de la misma manera que la clase FastAPI. Sin embargo, uvicorn no puede usar la instancia de APIRouter para servir la aplicación, a diferencia de las FastAPIs. Las rutas definidas usando la clase APIRouter se añaden a la instancia de fastapi para permitir su visibilidad.\n",
    "\n",
    "Para permitir la visibilidad de las rutas de \"todo\", incluiremos el manejador de operaciones de ruta \"todo_router\" a la instancia FastAPI principal utilizando el método include_router().\n",
    "\n",
    "En \"app.py\", importa \"todo_router\" desde \"todo.py\":"
   ]
  },
  {
   "cell_type": "code",
   "execution_count": null,
   "metadata": {},
   "outputs": [],
   "source": [
    "from todo import todo_router"
   ]
  },
  {
   "attachments": {},
   "cell_type": "markdown",
   "metadata": {},
   "source": [
    "Incluye el \"todo_router\" en la aplicación FastAPI, utilizando el método \"include_router\" de la instancia FastAPI:"
   ]
  },
  {
   "cell_type": "code",
   "execution_count": null,
   "metadata": {},
   "outputs": [],
   "source": [
    "from fastapi import FastAPI\n",
    "from todo import todo_router\n",
    "\n",
    "app = FastAPI()\n",
    "\n",
    "@app.get(\"/\")\n",
    "async def welcome() -> dict:\n",
    "    return {\n",
    "    \"message\": \"Hello World\"\n",
    "    }\n",
    "\n",
    "app.include_router(todo_router)"
   ]
  },
  {
   "attachments": {},
   "cell_type": "markdown",
   "metadata": {},
   "source": [
    "Con todo en su lugar, inicia la aplicación desde tu terminal:"
   ]
  },
  {
   "attachments": {},
   "cell_type": "markdown",
   "metadata": {},
   "source": [
    "> uvicorn app:app --port 8080 --reload"
   ]
  },
  {
   "attachments": {},
   "cell_type": "markdown",
   "metadata": {},
   "source": [
    "```\n",
    "Para probarlo:\n",
    "\n",
    "- Homepage \"/\":\n",
    "curl http://localhost:8080\n",
    "\n",
    "- Get \"/todo\":\n",
    "curl -X GET \"http://localhost:8080/todo\" -H \"accept: application/json\"\n",
    "\n",
    "- Post \"/todo\":\n",
    "curl -X POST \"http://localhost:8080/todo\" -H \"accept: application/json\" -H \"Content-Type: application/json\" -d \"{\\\"id\\\": 1, \\\"item\\\": \\\"¡Mi primera tarea es aprender FastAPI!\\\"}\"\n",
    "\n",
    "```"
   ]
  },
  {
   "attachments": {},
   "cell_type": "markdown",
   "metadata": {},
   "source": [
    "## Validando cuerpos de solicitud usando modelos Pydantic\n",
    "\n",
    "En FastAPI, los cuerpos de las solicitudes pueden ser validados para asegurar que sólo se envíen los datos definidos. Esto es crucial, ya que sirve para sanear los datos de la solicitud y reducir los riesgos de ataques maliciosos. A este proceso se le conoce como validación.\n",
    "\n",
    "Un modelo en FastAPI es una clase estructurada que dicta cómo se deben recibir o analizar los datos. Los modelos se crean al subclasificar la clase BaseModel de Pydantic.\n",
    "\n",
    "Cuando se definen, los modelos se utilizan como sugerencias de tipo para los objetos del cuerpo de la solicitud y los objetos de respuesta de la solicitud. En este notebook, sólo veremos el uso de los modelos Pydantic para los cuerpos de las solicitudes.\n",
    "\n",
    "Un ejemplo de modelo es el siguiente:"
   ]
  },
  {
   "cell_type": "code",
   "execution_count": null,
   "metadata": {},
   "outputs": [],
   "source": [
    "from pydantic import BaseModel\n",
    "class PacktBook(BaseModel):\n",
    "    id: int\n",
    "    Name: str\n",
    "    Publishers: str\n",
    "    Isbn: str"
   ]
  },
  {
   "attachments": {},
   "cell_type": "markdown",
   "metadata": {},
   "source": [
    "En el bloque de código anterior, definimos un modelo PacktBook como una subclase de la clase BaseModel de Pydantic. Una variable con una sugerencia de tipo a la clase PacktBook sólo puede tener cuatro campos, como se definió anteriormente. En los siguientes ejemplos, veremos cómo Pydantic ayuda a validar las entradas.\n",
    "\n",
    "En nuestra aplicación \"todo\" de antes, definimos una ruta para añadir un ítem a nuestra lista de \"todos\". En la definición de la ruta, establecimos el cuerpo de la solicitud en un diccionario:"
   ]
  },
  {
   "cell_type": "code",
   "execution_count": null,
   "metadata": {},
   "outputs": [],
   "source": [
    "async def add_todo(todo: dict) -> dict:"
   ]
  },
  {
   "attachments": {},
   "cell_type": "markdown",
   "metadata": {},
   "source": [
    "En el ejemplo de solicitud POST, los datos enviados tenían el siguiente formato:"
   ]
  },
  {
   "cell_type": "code",
   "execution_count": null,
   "metadata": {
    "vscode": {
     "languageId": "javascript"
    }
   },
   "outputs": [],
   "source": [
    "{\n",
    "\"id\": id,\n",
    "\"item\": item\n",
    "}"
   ]
  },
  {
   "attachments": {},
   "cell_type": "markdown",
   "metadata": {},
   "source": [
    "Sin embargo, también se podría haber enviado un diccionario vacío sin que se devuelva ningún error. Un usuario puede enviar una solicitud con un cuerpo distinto al mostrado anteriormente. Crear un modelo con la estructura de cuerpo de solicitud requerida y asignarlo como tipo al cuerpo de la solicitud asegura que sólo se pasan los campos de datos presentes en el modelo.\n",
    "\n",
    "Por ejemplo, para asegurar que sólo el cuerpo de la solicitud contiene campos en el ejemplo anterior, crea un nuevo archivo [model.py](../app/todos/model.py) y añade el siguiente código a continuación:"
   ]
  },
  {
   "cell_type": "code",
   "execution_count": null,
   "metadata": {
    "vscode": {
     "languageId": "javascript"
    }
   },
   "outputs": [],
   "source": [
    "from pydantic import BaseModel\n",
    "class Todo(BaseModel):\n",
    "    id: int\n",
    "    item: str"
   ]
  },
  {
   "attachments": {},
   "cell_type": "markdown",
   "metadata": {},
   "source": [
    "En el bloque de código anterior, hemos creado un modelo Pydantic que sólo acepta dos campos:\n",
    "\n",
    "- id de tipo entero\n",
    "- item de tipo string\n",
    "\n",
    "Vamos a adelante y usemos el modelo en nuestra ruta POST. \n",
    "\n",
    "En [todo.py](../app/todos/todo.py), importa el modelo:"
   ]
  },
  {
   "cell_type": "code",
   "execution_count": null,
   "metadata": {},
   "outputs": [],
   "source": [
    "from model import Todo"
   ]
  },
  {
   "attachments": {},
   "cell_type": "markdown",
   "metadata": {},
   "source": [
    "A continuación, reemplaza el tipo de variable del cuerpo de la solicitud de dict a Todo:"
   ]
  },
  {
   "cell_type": "code",
   "execution_count": null,
   "metadata": {},
   "outputs": [],
   "source": [
    "todo_list = []\n",
    "\n",
    "@todo_router.post(\"/todo\")\n",
    "async def add_todo(todo: Todo) -> dict:\n",
    "    todo_list.append(todo)\n",
    "    return {\"message\": \"Todo added successfully\"}\n",
    "\n",
    "@todo_router.get(\"/todo\")\n",
    "async def retrieve_todos() -> dict:\n",
    "    return {\"todos\": todo_list}"
   ]
  },
  {
   "attachments": {},
   "cell_type": "markdown",
   "metadata": {},
   "source": [
    "Ahora vamos a verificarlo:"
   ]
  },
  {
   "attachments": {},
   "cell_type": "markdown",
   "metadata": {},
   "source": [
    "```\n",
    "curl -X POST \"http://localhost:8080/todo\" -H \"accept: application/json\" -H \"Content-Type: application/json\" -d \"{}\"\n",
    "```"
   ]
  },
  {
   "cell_type": "code",
   "execution_count": null,
   "metadata": {
    "vscode": {
     "languageId": "javascript"
    }
   },
   "outputs": [],
   "source": [
    "{\n",
    "    \"detail\": [\n",
    "        {\n",
    "            \"loc\": [\n",
    "                \"body\",\n",
    "                \"id\"\n",
    "            ],\n",
    "            \"msg\": \"field required\",\n",
    "            \"type\": \"value_error.missing\"\n",
    "            },\n",
    "            {\n",
    "                \"loc\": [\n",
    "                \"body\",\n",
    "                \"item\"\n",
    "            ],\n",
    "            \"msg\": \"field required\",\n",
    "            \"type\": \"value_error.missing\"\n",
    "        }\n",
    "    ]\n",
    "}"
   ]
  },
  {
   "attachments": {},
   "cell_type": "markdown",
   "metadata": {},
   "source": [
    "Ahora vamos a meter datos con el POST:"
   ]
  },
  {
   "attachments": {},
   "cell_type": "markdown",
   "metadata": {},
   "source": [
    "```\n",
    "curl -X POST \"http://localhost:8080/todo\" -H \"accept: application/json\" -H \"Content-Type: application/json\" -d \"{\\\"id\\\": 2, \\\"item\\\": \\\"Validar el tipo de datos con model.py\\\"}\"\n",
    "```"
   ]
  },
  {
   "attachments": {},
   "cell_type": "markdown",
   "metadata": {},
   "source": [
    "## Modelos Anidados\n",
    "Los modelos Pydantic también pueden ser anidados, como el siguiente:"
   ]
  },
  {
   "cell_type": "code",
   "execution_count": null,
   "metadata": {},
   "outputs": [],
   "source": [
    "class Item(BaseModel):\n",
    "    item: str\n",
    "    status: str\n",
    "class Todo(BaseModel):\n",
    "    id: int\n",
    "    item: Item"
   ]
  },
  {
   "attachments": {},
   "cell_type": "markdown",
   "metadata": {},
   "source": [
    "Como resultado, un 'todo' de tipo Todo se representará de la siguiente manera:"
   ]
  },
  {
   "cell_type": "code",
   "execution_count": null,
   "metadata": {
    "vscode": {
     "languageId": "javascript"
    }
   },
   "outputs": [],
   "source": [
    "{\n",
    "    \"id\": 1,\n",
    "    \"item\": {\n",
    "        \"item\": \"Modelos anidados\",\n",
    "        \"Status\": \"completed\"\n",
    "        }\n",
    "    }"
   ]
  },
  {
   "attachments": {},
   "cell_type": "markdown",
   "metadata": {},
   "source": [
    "Hemos aprendido qué son los modelos, cómo crear uno y sus casos de uso. Los utilizaremos posteriormente en las partes restantes de este libro. En la siguiente sección, veamos los parámetros de ruta y de consulta."
   ]
  },
  {
   "attachments": {},
   "cell_type": "markdown",
   "metadata": {},
   "source": [
    "```\n",
    "curl -X POST \"http://localhost:8080/todo\" -H \"accept: application/json\" -H \"Content-Type: application/json\" -d \"{\\\"id\\\": 3, \\\"item\\\": {\\\"item\\\": \\\"Cuanto falta para terminar\\\", \\\"status\\\": \\\"Cansad@\\\"}}\"\n",
    "```"
   ]
  },
  {
   "attachments": {},
   "cell_type": "markdown",
   "metadata": {},
   "source": [
    "## Parámetros de Ruta y Consulta\n",
    "En la sección anterior, aprendimos qué son los modelos y cómo se utilizan para validar los cuerpos de las solicitudes. En esta sección, aprenderás qué son los parámetros de ruta y de consulta, el papel que juegan en el enrutamiento y cómo usarlos.\n",
    "\n",
    "### Parámetros de Ruta\n",
    "Los parámetros de ruta son parámetros incluidos en una ruta de API para identificar recursos. Estos parámetros sirven como un identificador y, a veces, un puente para permitir operaciones adicionales en una aplicación web.\n",
    "\n",
    "Actualmente tenemos rutas para añadir un 'todo' y recuperar todos los 'todos' en nuestra aplicación. Vamos a crear una nueva ruta para recuperar un solo 'todo' agregando el ID del 'todo' como un parámetro de ruta.\n",
    "\n",
    "En [todo.py](../app/todos/todo.py), añade la nueva ruta:"
   ]
  },
  {
   "cell_type": "code",
   "execution_count": null,
   "metadata": {},
   "outputs": [],
   "source": [
    "from fastapi import APIRouter, Path\n",
    "from model import Todo\n",
    "\n",
    "todo_router = APIRouter()\n",
    "todo_list = []\n",
    "\n",
    "@todo_router.post(\"/todo\")\n",
    "async def add_todo(todo: Todo) -> dict:\n",
    "    todo_list.append(todo)\n",
    "    return {\n",
    "    \"message\": \"Todo added successfully.\"\n",
    "    }\n",
    "\n",
    "@todo_router.get(\"/todo\")\n",
    "async def retrieve_todo() -> dict:\n",
    "    return {\n",
    "    \"todos\": todo_list\n",
    "    }\n",
    "\n",
    "@todo_router.get(\"/todo/{todo_id}\")\n",
    "async def get_single_todo(todo_id: int = Path(..., title=\"The ID of the todo to retrieve.\")) -> dict:\n",
    "    for todo in todo_list:\n",
    "        if todo.id == todo_id:\n",
    "            return {\n",
    "                \"todo\": todo\n",
    "            }\n",
    "    return {\n",
    "        \"message\": \"Todo with supplied ID doesn't exist.\"\n",
    "    }"
   ]
  },
  {
   "attachments": {},
   "cell_type": "markdown",
   "metadata": {},
   "source": [
    "En el bloque de código anterior, {todo_id} es el parámetro de ruta. Este parámetro permite que la aplicación devuelva un 'todo' que coincida con el ID pasado."
   ]
  },
  {
   "attachments": {},
   "cell_type": "markdown",
   "metadata": {},
   "source": [
    "Lo podemos comprobar de la siguente forma:\n",
    "\n",
    "```\n",
    "curl -X GET \"http://localhost:8080/todo/1\" -H \"accept: application/json\"\n",
    "```"
   ]
  },
  {
   "attachments": {},
   "cell_type": "markdown",
   "metadata": {},
   "source": [
    "FastAPI también proporciona una clase Path que distingue los parámetros de ruta de otros argumentos presentes en la función de ruta. La clase Path también ayuda a dar a los parámetros de ruta más contexto durante la documentación proporcionada automáticamente por OpenAPI a través de Swagger y ReDoc y actúa como un validador."
   ]
  },
  {
   "attachments": {},
   "cell_type": "markdown",
   "metadata": {},
   "source": [
    "Modifiquemos la definición de la ruta:"
   ]
  },
  {
   "cell_type": "code",
   "execution_count": null,
   "metadata": {},
   "outputs": [],
   "source": [
    "from fastapi import APIRouter, Path\n",
    "from model import Todo\n",
    "\n",
    "todo_router = APIRouter()\n",
    "\n",
    "todo_list = []\n",
    "\n",
    "@todo_router.post(\"/todo\")\n",
    "async def add_todo(todo: Todo) -> dict:\n",
    "    todo_list.append(todo)\n",
    "    return {\n",
    "        \"message\": \"Todo added successfully.\"\n",
    "    }\n",
    "\n",
    "@todo_router.get(\"/todo\")\n",
    "async def retrieve_todo() -> dict:\n",
    "    return {\n",
    "        \"todos\": todo_list\n",
    "    }\n",
    "\n",
    "@todo_router.get(\"/todo/{todo_id}\")\n",
    "async def get_single_todo(todo_id: int = Path(..., title=\"The ID of the todo to retrieve\")) -> dict:\n",
    "    for todo in todo_list:\n",
    "        if todo.id == todo_id:\n",
    "            return {\n",
    "                \"todo\": todo\n",
    "                }\n",
    "        return {\n",
    "            \"message\": \"Todo with supplied ID doesn't exist.\"\n",
    "}"
   ]
  },
  {
   "attachments": {},
   "cell_type": "markdown",
   "metadata": {},
   "source": [
    "### Parámetros de Consulta\n",
    "Un parámetro de consulta es un parámetro opcional que suele aparecer después de un signo de interrogación en una URL. Se utiliza para filtrar solicitudes y devolver datos específicos en función de las consultas suministradas.\n",
    "\n",
    "En una función de controlador de ruta, un argumento que no es homónimo con el parámetro de ruta es una consulta. También puedes definir una consulta creando una instancia de la clase Query() de FastAPI en el argumento de la función, como el siguiente:"
   ]
  },
  {
   "cell_type": "code",
   "execution_count": null,
   "metadata": {},
   "outputs": [],
   "source": [
    "async def query_route(query: str = Query(None)):\n",
    "    return query"
   ]
  },
  {
   "attachments": {},
   "cell_type": "markdown",
   "metadata": {},
   "source": [
    "Examinaremos los casos de uso de los parámetros de consulta más adelante en la Clase cuando discutamos cómo construir aplicaciones más avanzadas que una aplicación de 'todo'.\n",
    "\n",
    "Ahora que has aprendido cómo crear rutas, validar los cuerpos de las solicitudes y utilizar los parámetros de ruta y de consulta en tu aplicación FastAPI, aprenderás cómo estos componentes trabajan conjuntamente para formar un cuerpo de solicitud en la siguiente sección."
   ]
  },
  {
   "attachments": {},
   "cell_type": "markdown",
   "metadata": {},
   "source": [
    "## Cuerpo de la Solicitud\n",
    "\n",
    "En las secciones anteriores, aprendimos cómo usar la clase APIRouter y los modelos Pydantic para las validaciones del cuerpo de la solicitud y discutimos los parámetros de ruta y de consulta.\n",
    "\n",
    "Un cuerpo de solicitud es datos que envías a tu API utilizando un método de enrutamiento como POST y UPDATE.\n",
    "\n",
    "Hemos aprendido sobre los modelos en FastAPI. También sirven un propósito adicional en la documentación de nuestros puntos finales de la API y tipos de cuerpo de solicitud. En la siguiente subsección, aprenderemos sobre las páginas de documentación generadas por defecto en las aplicaciones FastAPI."
   ]
  },
  {
   "attachments": {},
   "cell_type": "markdown",
   "metadata": {},
   "source": [
    "```\n",
    "curl -X POST \"http://localhost:8080/todo\" -H \"accept: application/json\" -H \"Content-Type: application/json\" -d \"{\\\"id\\\": 2, \\\"item\\\": \\\"Validar models con los inputs\\\"}\"\n",
    "```"
   ]
  },
  {
   "attachments": {},
   "cell_type": "markdown",
   "metadata": {},
   "source": [
    "<div>\n",
    "    <a href=\"Intro.py\">\n",
    "        <img src=\"img/return.png\" alt=\"return\" title=\"return\" width=\"75\" style=\"float: left;\" />\n",
    "    </a>\n",
    "    <a href=\"./NB03.ipynb\">\n",
    "        <img src=\"img/forward.png\" alt=\"forward\" title=\"forward\" width=\"75\" style=\"float: right;\" />\n",
    "    </a>\n",
    "</div>"
   ]
  }
 ],
 "metadata": {
  "kernelspec": {
   "display_name": "este",
   "language": "python",
   "name": "python3"
  },
  "language_info": {
   "name": "python",
   "version": "3.9.5"
  },
  "orig_nbformat": 4
 },
 "nbformat": 4,
 "nbformat_minor": 2
}
