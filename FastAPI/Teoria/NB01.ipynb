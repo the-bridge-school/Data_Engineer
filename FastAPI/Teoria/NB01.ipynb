{
 "cells": [
  {
   "attachments": {},
   "cell_type": "markdown",
   "metadata": {},
   "source": [
    "## Construyendo una App sencilla"
   ]
  },
  {
   "attachments": {},
   "cell_type": "markdown",
   "metadata": {},
   "source": [
    "Finalmente, podemos comenzar con nuestro primer proyecto FastAPI. Nuestro objetivo en este notebook es introducir FastAPI construyendo una aplicación sencilla. Cubriremos operaciones más profundas en notebooks posteriores.\n",
    "\n",
    "Comenzaremos instalando las dependencias requeridas para nuestra aplicación en la carpeta 'todos'. \n",
    "\n",
    "Las dependencias son las siguientes:\n",
    "-  fastapi: El framework en el que construiremos nuestra aplicación.\n",
    "\n",
    "-  uvicorn: Un módulo de Interfaz de Puerta de Enlace de Servidor Asincrónico para ejecutar nuestra aplicación.\n",
    "\n",
    "Primero, activa tu entorno de desarrollo ejecutando el siguiente comando en tu directorio de proyecto:\n",
    "\n",
    "Mac/Linux:\n",
    "> source venv/bin/activate\n",
    "\n",
    "Windows:\n",
    ">.\\venv\\Scripts\\activate\n",
    "\n",
    "\n",
    "Luego, instala las dependencias de la siguiente manera:\n",
    "\n",
    "> pip install fastapi uvicorn\n",
    "\n",
    "Ten presente que necesitas tener el entorno virtual activo\n",
    "\n",
    "```(venv) pip install fastapi uvicorn```\n",
    "\n",
    "Por ahora, crearemos un nuevo archivo [app.py](../app/todos/app.py) y crearemos una nueva instancia de FastAPI de la siguiente manera:"
   ]
  },
  {
   "cell_type": "code",
   "execution_count": null,
   "metadata": {},
   "outputs": [],
   "source": [
    "from fastapi import FastAPI\n",
    "app = FastAPI()"
   ]
  },
  {
   "attachments": {},
   "cell_type": "markdown",
   "metadata": {},
   "source": [
    "Al instanciar FastAPI en la variable 'app', podemos proceder a crear rutas. Crearemos una ruta de bienvenida.\n",
    "\n",
    "Una ruta se crea definiendo primero un decorador para indicar el tipo de operación, seguido de una función que contiene la operación a realizar cuando se invoca esta ruta. En el siguiente ejemplo, crearemos una ruta \"/\" que solo acepta solicitudes GET y devuelve un mensaje de bienvenida cuando se visita:"
   ]
  },
  {
   "cell_type": "code",
   "execution_count": null,
   "metadata": {},
   "outputs": [
    {
     "ename": "",
     "evalue": "",
     "output_type": "error",
     "traceback": [
      "\u001b[1;31mThe Kernel crashed while executing code in the the current cell or a previous cell. Please review the code in the cell(s) to identify a possible cause of the failure. Click <a href='https://aka.ms/vscodeJupyterKernelCrash'>here</a> for more info. View Jupyter <a href='command:jupyter.viewOutput'>log</a> for further details."
     ]
    }
   ],
   "source": [
    "@app.get(\"/\")\n",
    "async def welcome() -> dict:\n",
    " return { \"message\": \"Hello World\"}"
   ]
  },
  {
   "attachments": {},
   "cell_type": "markdown",
   "metadata": {},
   "source": [
    "El siguiente paso es iniciar nuestra aplicación usando uvicorn. En tu terminal, ejecuta el siguiente comando:"
   ]
  },
  {
   "attachments": {},
   "cell_type": "markdown",
   "metadata": {},
   "source": [
    "> uvicorn app:app --port 8080 --reload"
   ]
  },
  {
   "attachments": {},
   "cell_type": "markdown",
   "metadata": {},
   "source": [
    "En el comando anterior, uvicorn toma los siguientes argumentos:\n",
    "\n",
    "-  file:instance: El archivo que contiene la instancia de FastAPI y la variable que contiene la instancia de FastAPI.\n",
    "\n",
    "-  --port PORT: El puerto en el que se servirá la aplicación.\n",
    "\n",
    "-  --reload: Un argumento opcional incluido para reiniciar la aplicación en cada cambio de archivo."
   ]
  },
  {
   "attachments": {},
   "cell_type": "markdown",
   "metadata": {},
   "source": [
    "<div>\n",
    "    <a href=\"Intro.py\">\n",
    "        <img src=\"img/return.png\" alt=\"return\" title=\"return\" width=\"75\" style=\"float: left;\" />\n",
    "    </a>\n",
    "    <a href=\"./NB02.ipynb\">\n",
    "        <img src=\"img/forward.png\" alt=\"forward\" title=\"forward\" width=\"75\" style=\"float: right;\" />\n",
    "    </a>\n",
    "</div>"
   ]
  }
 ],
 "metadata": {
  "kernelspec": {
   "display_name": "este",
   "language": "python",
   "name": "python3"
  },
  "language_info": {
   "codemirror_mode": {
    "name": "ipython",
    "version": 3
   },
   "file_extension": ".py",
   "mimetype": "text/x-python",
   "name": "python",
   "nbconvert_exporter": "python",
   "pygments_lexer": "ipython3",
   "version": "3.9.5"
  },
  "orig_nbformat": 4
 },
 "nbformat": 4,
 "nbformat_minor": 2
}
