{
 "cells": [
  {
   "attachments": {},
   "cell_type": "markdown",
   "metadata": {},
   "source": [
    "![](https://fastapi.tiangolo.com/img/logo-margin/logo-teal.png)"
   ]
  },
  {
   "attachments": {},
   "cell_type": "markdown",
   "metadata": {},
   "source": [
    "## Introducción a FastAPI\n",
    "\n",
    "FastAPI es el marco de trabajo de Python que vamos a utilizar en este notebook. Es rápido, ligero, moderno y tiene una curva de aprendizaje más sencilla en comparación con otros marcos de trabajo de Python, como Flask y Django. FastAPI es relativamente nuevo, pero tiene una comunidad en crecimiento. Se utiliza ampliamente en la construcción de APIs web y en la implementación de modelos de aprendizaje automático.\n",
    "\n",
    "En este notebook, aprenderás a configurar tu entorno de desarrollo y a construir tu primera aplicación con FastAPI. Comenzarás aprendiendo los conceptos básicos de Git, un sistema de control de versiones, para equiparte con el conocimiento de almacenar, rastrear y recuperar cambios de archivos a medida que construyes tu aplicación. También aprenderás a manejar paquetes en Python usando pip, cómo crear entornos de desarrollo aislados con Virtualenv y los conceptos básicos de Docker. Por último, te presentaremos los fundamentos de FastAPI mediante la construcción de una sencilla aplicación de \"Hola Mundo\".\n",
    "\n",
    "En términos más simples:\n",
    "\n",
    "FastAPI es un marco de trabajo de Python fácil de aprender y rápido que usarás en este notebook. Aprenderás a preparar tu entorno de desarrollo, usar Git, manejar paquetes Python con pip, usar Virtualenv para entornos de desarrollo aislados, los fundamentos de Docker y construirás una aplicación sencilla de \"Hola Mundo\" con FastAPI. Se explorarán más detalles en futuros notebooks."
   ]
  },
  {
   "attachments": {},
   "cell_type": "markdown",
   "metadata": {},
   "source": [
    "\n",
    "Es necesario comprender las tecnologías mencionadas anteriormente para construir una aplicación completa con FastAPI. Además, sirve como una adición a tus habilidades actuales. Al finalizar este notebook, deberas capaz de configurar y usar Git, instalar y administrar paquetes usando pip, crear un entorno de desarrollo aislado con Virtualenv, ~~usar Docker~~ y, lo más importante, escalar una aplicación con FastAPI.\n",
    "\n",
    "Este notebook cubre los siguientes temas:\n",
    "\n",
    "• Construcción de una aplicación sencilla con FastAPI\n",
    "\n",
    "En términos más simples:\n",
    "\n",
    "Necesitas entender algunas tecnologías para construir una aplicación FastAPI completa. Al final de este notebook, sabrás cómo construir y escalar una aplicación FastAPI."
   ]
  },
  {
   "attachments": {},
   "cell_type": "markdown",
   "metadata": {},
   "source": [
    "### Comenzamos..."
   ]
  },
  {
   "attachments": {},
   "cell_type": "markdown",
   "metadata": {},
   "source": [
    "## Recuerda"
   ]
  },
  {
   "attachments": {},
   "cell_type": "markdown",
   "metadata": {},
   "source": [
    "El enfoque tradicional para desarrollar aplicaciones en Python es aislar estas aplicaciones en un entorno virtual. Esto se hace para evitar instalar paquetes globalmente y reducir conflictos durante el desarrollo de la aplicación."
   ]
  },
  {
   "attachments": {},
   "cell_type": "markdown",
   "metadata": {},
   "source": [
    "### Creando un entorno virtual\n",
    "Por defecto, el módulo venv de la biblioteca estándar está instalado en Python3. El módulo venv es responsable de crear un entorno virtual. Vamos a crear una carpeta 'todos' y crear un entorno virtual en ella ejecutando los siguientes comandos:\n",
    "\n",
    "> mkdir todos && cd todos\n",
    "\n",
    "> python3 -m venv venv"
   ]
  },
  {
   "attachments": {},
   "cell_type": "markdown",
   "metadata": {},
   "source": [
    "<div>\n",
    "    <a href=\"./NB01.ipynb\">\n",
    "        <img src=\"img/forward.png\" alt=\"forward\" title=\"forward\" width=\"75\" style=\"float: right;\" />\n",
    "    </a>\n",
    "</div>"
   ]
  }
 ],
 "metadata": {
  "kernelspec": {
   "display_name": "este",
   "language": "python",
   "name": "python3"
  },
  "language_info": {
   "name": "python",
   "version": "3.9.5"
  },
  "orig_nbformat": 4
 },
 "nbformat": 4,
 "nbformat_minor": 2
}
