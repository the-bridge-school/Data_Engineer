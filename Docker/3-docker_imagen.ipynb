{
 "cells": [
  {
   "attachments": {},
   "cell_type": "markdown",
   "metadata": {},
   "source": [
    "![docker](https://www.docker.com/wp-content/uploads/2021/10/dev_prog3.png)"
   ]
  },
  {
   "attachments": {},
   "cell_type": "markdown",
   "metadata": {},
   "source": [
    "## ¿Cómo crear una imagen Docker a partir de un Dockerfile?"
   ]
  },
  {
   "attachments": {},
   "cell_type": "markdown",
   "metadata": {},
   "source": [
    "Una vez ya tenemos nuestro fichero Dockerfile, deberemos montar nuestra imagen Docker."
   ]
  },
  {
   "attachments": {},
   "cell_type": "markdown",
   "metadata": {},
   "source": [
    "Para ello, lo primero de todo es abrir una terminal en la misma carpeta donde tenemos el Dockerfile."
   ]
  },
  {
   "attachments": {},
   "cell_type": "markdown",
   "metadata": {},
   "source": [
    "> docker build ."
   ]
  },
  {
   "attachments": {},
   "cell_type": "markdown",
   "metadata": {},
   "source": [
    "Importante: no debe haber ningún espacio después el punto, sino no funcionará."
   ]
  },
  {
   "attachments": {},
   "cell_type": "markdown",
   "metadata": {},
   "source": [
    "Además, podemos fijar un montón de parámetros a la hora de montar la imagen aunque los más utilizados suelen ser:\n",
    "\n",
    "- -t : permite dar un nombre y un tag a la imagen. El nombre nos permitirá diferenciar las imágenes, y el tag nos permitirá diferenciar las versiones.\n",
    "- --no-cache: si repites el build de una imagen, evita que use la caché.\n",
    "- -m: permite limitar la memoria que utilizará el proceso. En algunos SO el propio Docker limita el uso de memoria a 2GB, por lo que con esto podríamos permitirle usar más."
   ]
  },
  {
   "attachments": {},
   "cell_type": "markdown",
   "metadata": {},
   "source": [
    "> docker build -t iris ."
   ]
  },
  {
   "attachments": {},
   "cell_type": "markdown",
   "metadata": {},
   "source": [
    "![img3](img/img3.png)"
   ]
  },
  {
   "attachments": {},
   "cell_type": "markdown",
   "metadata": {},
   "source": [
    "y por último ahora necesitamos [lanzar](4-lanzar_docker.ipynb) nuetro imagen"
   ]
  }
 ],
 "metadata": {
  "kernelspec": {
   "display_name": "este",
   "language": "python",
   "name": "python3"
  },
  "language_info": {
   "name": "python",
   "version": "3.9.5"
  },
  "orig_nbformat": 4
 },
 "nbformat": 4,
 "nbformat_minor": 2
}
