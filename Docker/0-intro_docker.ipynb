{
 "cells": [
  {
   "attachments": {},
   "cell_type": "markdown",
   "metadata": {},
   "source": [
    "![docker](https://dondocker.com/wp-content/uploads/2016/05/docker_registry2.png)"
   ]
  },
  {
   "cell_type": "markdown",
   "metadata": {},
   "source": [
    "Como científico de datos seguro que creas modelos y código que son muy útiles, pero no sepas cómo poner en producción. Sin embargo, ese código o modelo no es del todo útil si no sabes ponerlo en producción. Para ello, una herramienta fundamental es Docker, ya que permite poner código en producción en diferentes plataformas Cloud y sea cual sea el lenguaje."
   ]
  },
  {
   "attachments": {},
   "cell_type": "markdown",
   "metadata": {},
   "source": [
    "## ¿Qué es Docker?"
   ]
  },
  {
   "attachments": {},
   "cell_type": "markdown",
   "metadata": {},
   "source": [
    "Imagínate que tienes una aplicación (sea Python o cualquier otra) en tu ordenador y la quieres poner en producción. La aplicación la has desarrollado en un Sistema Operativo, con un lenguaje de programación con una versión específica y unas librerías con unas versiones específicas también.\n",
    "\n",
    "Vamos, que si quieres asegurarte de que tu aplicación funciona en el servidor, el servidor tendrá que tener exactamente lo mismo que tienes tú en tu ordenador. Sino, es posible que haya problemas de incompatibilidad.\n",
    "\n",
    "Como comprenderás, esto es algo inasumible: un servicio Cloud no puede tener todos los Sistemas Operativos, ni todos los lenguajes ni todas sus versiones, puesto que sería algo inabarcable. Aquí es cuando Docker entra en acción.\n",
    "\n",
    "Docker es una plataforma de software libre que te permite paquetizar y aislar tu software. Es decir, con Docker puedes crear un elemento (llamado Imagen) que incluirá todo lo necesario para ejecutar tu aplicación."
   ]
  },
  {
   "attachments": {},
   "cell_type": "markdown",
   "metadata": {},
   "source": [
    "## ¿Por qué usar Docker como Data Scientist?"
   ]
  },
  {
   "attachments": {},
   "cell_type": "markdown",
   "metadata": {},
   "source": [
    "Considerando lo anterior, gracias a Docker podrás ejecutar tu aplicación en cualquier sistema con Docker, independientemente de su sistema operativo o de que tenga, o no, el lenguaje y las librerías que necesita tu aplicación.\n",
    "\n",
    "Esto es muy interesante sobre todo en dos situaciones:\n",
    "\n",
    "1. Puesta en producción de productos de ML: si quieres poner un modelo o una aplicación que use ML en producción, Docker será una forma muy clara de hacerlo. Al fin y al cabo, todas las plataformas Cloud ofrecen la posibilidad de subir una imagen Docker y desplegarla en varios de sus servicios.\n",
    "\n",
    "2. Creación de un entorno aislado. Muchas veces los distintos softwares pueden dar problemas.\n",
    "\n",
    "Ahora ya sabes qué es Docker y por qué es importante conocerlo si te dedicas al Data Science, pero… ¿cómo funciona? ¡Veamos cómo puedes aprender a incluir tu aplicación en Docker!"
   ]
  },
  {
   "attachments": {},
   "cell_type": "markdown",
   "metadata": {},
   "source": [
    "## ¿Cómo Dockerizar una aplicación?"
   ]
  },
  {
   "attachments": {},
   "cell_type": "markdown",
   "metadata": {},
   "source": [
    "Para Dockerizar una aplicación vamos a tener que seguir los siguientes pasos:\n",
    "\n",
    "1. [Instalar Docker Desktop en tu ordenador.](1-docker_desktop.ipynb)\n",
    "2. [Crear un Dockerfile.](2-dockerfile.ipynb)\n",
    "3. [Crear la imagen Docker a partir del Dockerfile.](3-docker_imagen.ipynb)\n",
    "4. [Lanzar tu aplicación.](4-lanzar_docker.ipynb)"
   ]
  }
 ],
 "metadata": {
  "language_info": {
   "name": "python"
  },
  "orig_nbformat": 4
 },
 "nbformat": 4,
 "nbformat_minor": 2
}
