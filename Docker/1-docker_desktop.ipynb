{
 "cells": [
  {
   "attachments": {},
   "cell_type": "markdown",
   "metadata": {},
   "source": [
    "![docker](https://lanpixel.com/wp-content/uploads/2021/09/Logo-Docker.png)"
   ]
  },
  {
   "attachments": {},
   "cell_type": "markdown",
   "metadata": {},
   "source": [
    "## ¿Cómo instalar Docker en tu ordenador?"
   ]
  },
  {
   "attachments": {},
   "cell_type": "markdown",
   "metadata": {},
   "source": [
    "Instalar Docker en tu ordenador es muy sencillo. Si tienes un Windows simplemente debes ir a esta [página](https://docs.docker.com/desktop/install/windows-install/) tambien deberas tener el WSL (Windows Subsystem for Linux), al instalar Docker te lo \"activas\" (en Setting/General/``Use the WSL 2 based engine``) para pasos mas detallados esta este [enlace](https://learn.microsoft.com/es-es/windows/wsl/tutorials/wsl-containers). Si, en cambio, usas Mac, puedes descargad Docker desde este otro [enlace.](https://docs.docker.com/desktop/install/mac-install/)"
   ]
  },
  {
   "attachments": {},
   "cell_type": "markdown",
   "metadata": {},
   "source": [
    "Una vez hayas descargado e instalado la aplicación podrás acceder a ella. De momento no la vamos a usar, pero para asegurarte de que funciona, tendrás que ver algo así:"
   ]
  },
  {
   "attachments": {},
   "cell_type": "markdown",
   "metadata": {},
   "source": [
    "![imagen](img\\img1.png)"
   ]
  },
  {
   "attachments": {},
   "cell_type": "markdown",
   "metadata": {},
   "source": [
    "otra opción para comprobar que has instalado Docker de forma correcta es abriendo una terminal. En ella ejecuta el siguiente comando:\n",
    "> docker version"
   ]
  },
  {
   "attachments": {},
   "cell_type": "markdown",
   "metadata": {},
   "source": [
    "![img2](img\\img2.png)"
   ]
  },
  {
   "attachments": {},
   "cell_type": "markdown",
   "metadata": {},
   "source": [
    "Ahora podemos seguir con [Dockerfile](2-dockerfile.ipynb)"
   ]
  }
 ],
 "metadata": {
  "language_info": {
   "name": "python"
  },
  "orig_nbformat": 4
 },
 "nbformat": 4,
 "nbformat_minor": 2
}
