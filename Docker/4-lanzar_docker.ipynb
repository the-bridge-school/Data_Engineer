{
 "cells": [
  {
   "cell_type": "markdown",
   "metadata": {},
   "source": [
    "![docker](https://www.docker.com/wp-content/uploads/2021/09/Moby-run.png)"
   ]
  },
  {
   "attachments": {},
   "cell_type": "markdown",
   "metadata": {},
   "source": [
    "## ¿Cómo lanzar una imagen Docker?"
   ]
  },
  {
   "attachments": {},
   "cell_type": "markdown",
   "metadata": {},
   "source": [
    "Lanzar una imagen Docker en local es súper sencillo. Una vez tienes la imagen Docker debes poner el ratón sobre encima de ella y a la derecha del todo aparecerá el botón “Run”."
   ]
  },
  {
   "attachments": {},
   "cell_type": "markdown",
   "metadata": {},
   "source": [
    "![img4](img/img4.png)"
   ]
  },
  {
   "attachments": {},
   "cell_type": "markdown",
   "metadata": {},
   "source": [
    "En esta ventana podemos indicar varias cuestiones, como el nombre que queremos que tenga este contenedor o el puerto en el que queremos que se ejecute. Si no indicas nada usará los valores por defecto y se inventará un nombre."
   ]
  },
  {
   "attachments": {},
   "cell_type": "markdown",
   "metadata": {},
   "source": [
    "Por otro lado, otra forma de lanzar la aplicación (la más utilizada) es mediante consola. Para ello simplemente debes indicar:\n",
    "\n",
    "- El nombre de la aplicación.\n",
    "- El puerto en el que escuchas.\n",
    "- El puerto en el que escucha el contenedor."
   ]
  },
  {
   "attachments": {},
   "cell_type": "markdown",
   "metadata": {},
   "source": [
    "Así pues, considerando el Dockerfile que expone la app en el puerto 80, voy a pedir que escuche en el puerto 80 del localhost. Esto lo consigo lanzando el contenedor con el siguiente comando:"
   ]
  },
  {
   "attachments": {},
   "cell_type": "markdown",
   "metadata": {},
   "source": [
    "> docker run -d --name iris-app -p 8080:8080 iris"
   ]
  },
  {
   "attachments": {},
   "cell_type": "markdown",
   "metadata": {},
   "source": [
    "## BONUS"
   ]
  },
  {
   "attachments": {},
   "cell_type": "markdown",
   "metadata": {},
   "source": [
    "Para simplificar los pasos podemos crear un docker-compose.yml"
   ]
  },
  {
   "attachments": {},
   "cell_type": "markdown",
   "metadata": {},
   "source": [
    "```\n",
    "version: \"3.9\"\n",
    "\n",
    "services:\n",
    "  iris_app:\n",
    "    build: .\n",
    "    ports:\n",
    "      - \"8080:8080\"\n",
    "```"
   ]
  },
  {
   "attachments": {},
   "cell_type": "markdown",
   "metadata": {},
   "source": [
    "Este es un archivo docker-compose.yml básico que define la configuración de un servicio llamado iris_app. A continuación, se detallan las partes del archivo:\n",
    "\n",
    "- ``version: \"3.9\"``: Especifica la versión de la sintaxis del archivo Docker Compose que se está utilizando. En este caso, se usa la versión 3.9.\n",
    "\n",
    "- ``services:``: Define un conjunto de servicios que se ejecutarán utilizando Docker Compose. Los servicios son contenedores Docker que se configuran para realizar tareas específicas.\n",
    "\n",
    "- ``iris_app:``: Define un servicio llamado iris_app. Este nombre puede ser utilizado para referirse al servicio en otros lugares del archivo docker-compose.yml o en comandos de Docker Compose.\n",
    "\n",
    "- ``build: .``: Indica que la imagen de Docker para este servicio debe construirse utilizando el archivo Dockerfile en el directorio actual (representado por el punto). Docker Compose buscará un archivo llamado Dockerfile en el mismo directorio que el archivo docker-compose.yml y lo utilizará para construir la imagen de Docker.\n",
    "\n",
    "- ``ports:``: Define la asignación de puertos entre el contenedor y el sistema host. Este mapeo permite que las conexiones al host en un puerto específico se redirijan al contenedor en otro puerto.\n",
    "\n",
    "- ``\"8080:8080\"``: Mapea el puerto 8080 del host al puerto 8080 del contenedor. Esto significa que si el contenedor escucha en el puerto 8080, también será accesible a través del puerto 8080 del host.\n",
    "\n",
    "Este archivo docker-compose.yml es una configuración básica que define un servicio que se construye a partir de un Dockerfile en el directorio actual y expone el puerto 8080. Al ejecutar docker-compose up, Docker Compose construirá la imagen de Docker utilizando el Dockerfile proporcionado, iniciará un contenedor a partir de esa imagen y mapeará el puerto 8080 del host al puerto 8080 del contenedor."
   ]
  }
 ],
 "metadata": {
  "kernelspec": {
   "display_name": "este",
   "language": "python",
   "name": "python3"
  },
  "language_info": {
   "name": "python",
   "version": "3.9.5"
  },
  "orig_nbformat": 4,
  "vscode": {
   "interpreter": {
    "hash": "a2096eed11e660c16a57aa22341844f97628d296d9189b003c816b71548c0c9d"
   }
  }
 },
 "nbformat": 4,
 "nbformat_minor": 2
}
