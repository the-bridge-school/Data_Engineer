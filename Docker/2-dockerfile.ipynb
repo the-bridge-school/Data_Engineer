{
 "cells": [
  {
   "attachments": {},
   "cell_type": "markdown",
   "metadata": {},
   "source": [
    "![docker](data:image/png;base64,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)"
   ]
  },
  {
   "attachments": {},
   "cell_type": "markdown",
   "metadata": {},
   "source": [
    "## ¿Qué es Dockerfile y cómo crearlo?"
   ]
  },
  {
   "attachments": {},
   "cell_type": "markdown",
   "metadata": {},
   "source": [
    "Dockerfile es un fichero que indica a Docker las instrucciones a seguir para incluir todo lo necesario en la imagen: la aplicación, los programas que necesita, la instalación de las librerías, etc.\n",
    "\n",
    "Al final y al cabo, lo que hay detrás de Docker es un sistema Linux. Por tanto, tendremos que instalar los programas que necesitemos, incluir nuestro código e indicar a Docker que lo ejecute.\n",
    "\n",
    "Para ello, Docker cuenta con varios comandos que permiten saber qué elementos incluir en nuestra imagen. Los verbos más típicos son FROM, COPY, RUN, CMD y ENTRYPOINT."
   ]
  },
  {
   "attachments": {},
   "cell_type": "markdown",
   "metadata": {},
   "source": [
    "### Crear un Dockerfile: FROM"
   ]
  },
  {
   "attachments": {},
   "cell_type": "markdown",
   "metadata": {},
   "source": [
    "Este verbo indica la imagen base sobre la cual vamos a partir. Como he dicho antes, Docker se basa en instalar en un sistema Linux todo lo que necesitemos para ejecutar nuestro código. ¿Significa esto que vas a tener que instalar Python, Tnesorflow, etc. desde línea de comandos? Pues no.\n",
    "\n",
    "Y es que la comunidad suele crear imágenes que incluyen ya contenido genérico. Por ejemplo, si usas Python hay imágenes que ya tienen Python instalado. Incluso, hay imágenes que ya tienen todo lo necesario para que ejecutes Tensorflow.\n",
    "\n",
    "Para encontrar estas imágenes lo más común suele ser buscar la imagen en el repositorio de imágenes de Docker [dockerhub](https://hub.docker.com/). Si buscas [“tensorflow”](https://hub.docker.com/r/tensorflow/tensorflow), por ejemplo, encontrarás la imagen oficial de Tensorflow (enlace).\n",
    "\n",
    "Por ejemplo, supongamos que hemos creado un modelo de Machine Learning en Python y hemos creado una API con FastAPI.\n",
    "\n",
    "Si buscamos en la documentación de [FastAPI](https://fastapi.tiangolo.com/deployment/docker/) verás que indican que esta [imagen Docker](https://hub.docker.com/r/tiangolo/uvicorn-gunicorn-fastapi) incluye todo lo necesario para usar Fast API."
   ]
  },
  {
   "attachments": {},
   "cell_type": "markdown",
   "metadata": {},
   "source": [
    "Ahora es tan simple como:\n",
    "> FROM tiangolo/uvicorn-gunicorn-fastapi"
   ]
  },
  {
   "attachments": {},
   "cell_type": "markdown",
   "metadata": {},
   "source": [
    "Pero... ¿y si quiero algo adicional que no esta en esa imagen?"
   ]
  },
  {
   "attachments": {},
   "cell_type": "markdown",
   "metadata": {},
   "source": [
    "### Dockerfile: RUN"
   ]
  },
  {
   "attachments": {},
   "cell_type": "markdown",
   "metadata": {},
   "source": [
    "La instrucción RUN ejecutará un comando en consola. Esto nos servirá para instalar nuevo software que necesitemos pero que la imagen de la que partimos no incluye. Por ejemplo, esto puede darse si quieres acceder a una base de datos."
   ]
  },
  {
   "attachments": {},
   "cell_type": "markdown",
   "metadata": {},
   "source": [
    "RUN puede tener dos formas diferentes:\n",
    "\n",
    "1. RUN comando : ejecuta el comando el shell.\n",
    "2. RUN [ejecutable parametro1 parametro2] . Permite pasar parámetros a la ejecución."
   ]
  },
  {
   "attachments": {},
   "cell_type": "markdown",
   "metadata": {},
   "source": [
    "Por ejemplo, si queremos contectarnos a PostgreSQL, tendremos que instalar el paquete libq-dev. Para ello nuestro Dockerfile tendría que incluir la siguiente instrucción:"
   ]
  },
  {
   "attachments": {},
   "cell_type": "markdown",
   "metadata": {},
   "source": [
    "> RUN apt-get update\n",
    "\n",
    "> RUN apt-get install -y libpq-dev "
   ]
  },
  {
   "attachments": {},
   "cell_type": "markdown",
   "metadata": {},
   "source": [
    "Asimismo para no incluir cada línea en una instrucción diferente, podríamos juntarlas en una única instrucción de la siguiente forma:"
   ]
  },
  {
   "attachments": {},
   "cell_type": "markdown",
   "metadata": {},
   "source": [
    "```\n",
    "RUN apt-get update \\\n",
    "    && apt-get install -y libpq-dev\n",
    "```"
   ]
  },
  {
   "attachments": {},
   "cell_type": "markdown",
   "metadata": {},
   "source": [
    "En nuestro caso usaremos el comando RUN para instalar las dependencias de nuestra aplicación del fichero requirements.txt."
   ]
  },
  {
   "attachments": {},
   "cell_type": "markdown",
   "metadata": {},
   "source": [
    "> RUN pip install -r requirements.txt"
   ]
  },
  {
   "attachments": {},
   "cell_type": "markdown",
   "metadata": {},
   "source": [
    "### Dockerfile: COPY, ADD y WORKDIR"
   ]
  },
  {
   "attachments": {},
   "cell_type": "markdown",
   "metadata": {},
   "source": [
    "Tanto COPY como ADD sirven para añadir contenido a nuestro Dockerfile, aunque ADD ofrece más opciones que COPY. Y es que, mientras que COPY únicamente sirve para copiar ficheros en local, con ADD puedes añadir ficheros de una URL.\n",
    "\n",
    "Ademas, si añades un fichero local comprimido (como un fichero tar.gz), ADD lo descomprimirá en una carpeta nueva.\n",
    "\n",
    "Aunque ADD parezca muy superior a COPY, a menos que vayas a usar alguna de las funcionalidades de ADD, Docker recomienda el uso de COPY.\n",
    "\n",
    "Asimismo, tanto ADD como COPY toman dos parámetros:"
   ]
  },
  {
   "attachments": {},
   "cell_type": "markdown",
   "metadata": {},
   "source": [
    "1. Ruta de origen: indica la ruta donde se encuentra el fichero que quieres copiar.\n",
    "2. Ruta de destino: ruta en la que quieres “pegar” el fichero. Si no quieres pegarlo en una ruta específica, puedes indicar que se pegue en /, de tal forma que el elemento se pegue en el Working Directory."
   ]
  },
  {
   "attachments": {},
   "cell_type": "markdown",
   "metadata": {},
   "source": [
    "Asimismo, para indicar el Working Directory usaremos el verbo WORKDIR. La instrucción WORKDIR permite indicar dónde se ejecutarán las funciones RUN, CMD, ENTRYPOINT, COPY y ADD que vengan a continuación. Asimismo, en caso de que sea necesario, es posible cambiar el WORKDIR varias veces en un mismo Dockerfile "
   ]
  },
  {
   "attachments": {},
   "cell_type": "markdown",
   "metadata": {},
   "source": [
    "Siguiendo el ejemplo, supongamos que tenemos la siguiente estructura:"
   ]
  },
  {
   "attachments": {},
   "cell_type": "markdown",
   "metadata": {},
   "source": [
    "```.\n",
    "├── app\n",
    "│   └── main.py\n",
    "│\n",
    "├── Dockerfile\n",
    "│\n",
    "└── requirements.txt\n",
    "```"
   ]
  },
  {
   "attachments": {},
   "cell_type": "markdown",
   "metadata": {},
   "source": [
    "Además, el fichero main.py podria ser algo asi..."
   ]
  },
  {
   "cell_type": "code",
   "execution_count": null,
   "metadata": {},
   "outputs": [],
   "source": [
    "from fastapi import FastAPI, Request\n",
    "from fastapi.responses import HTMLResponse, StreamingResponse\n",
    "from fastapi.templating import Jinja2Templates\n",
    "import pandas as pd\n",
    "import matplotlib.pyplot as plt\n",
    "\n",
    "app = FastAPI()\n",
    "\n",
    "templates = Jinja2Templates(directory=\"templates\")\n",
    "\n",
    "@app.get(\"/\", response_class=HTMLResponse)\n",
    "async def inicio(request: Request):\n",
    "    return templates.TemplateResponse(\"index.html\", {\"request\": request})\n",
    "\n",
    "@app.get(\"/obtener-iris\")\n",
    "def obtener_iris():\n",
    "    url ='https://gist.githubusercontent.com/curran/a08a1080b88344b0c8a7/raw/0e7a9b0a5d22642a06d3d5b9bcbad9890c8ee534/iris.csv'\n",
    "    iris = pd.read_csv(url)\n",
    "    return iris.to_dict(orient='records')\n",
    "\n",
    "@app.get(\"/graficar-iris\")\n",
    "def graficar_iris():\n",
    "    url ='https://gist.githubusercontent.com/curran/a08a1080b88344b0c8a7/raw/0e7a9b0a5d22642a06d3d5b9bcbad9890c8ee534/iris.csv'\n",
    "    iris = pd.read_csv(url)\n",
    "\n",
    "    plt.scatter(iris['sepal_length'], iris['sepal_width'])\n",
    "    plt.savefig('iris.png')\n",
    "    archivo = open('iris.png', mode=\"rb\")\n",
    "\n",
    "    return StreamingResponse(archivo, media_type=\"image/png\")\n"
   ]
  },
  {
   "attachments": {},
   "cell_type": "markdown",
   "metadata": {},
   "source": [
    "Así pues, tendremos que incluir nuestro fichero en nuestra imagen Docker. Para ello simplemente incluiríamos la siguiente instrucción:"
   ]
  },
  {
   "attachments": {},
   "cell_type": "markdown",
   "metadata": {},
   "source": [
    "```\n",
    "# Creo la carpeta\n",
    "RUN mkdir -p app\n",
    "\n",
    "# Pego la carpeta\n",
    "COPY ./app app\n",
    "```"
   ]
  },
  {
   "attachments": {},
   "cell_type": "markdown",
   "metadata": {},
   "source": [
    "y por último."
   ]
  },
  {
   "attachments": {},
   "cell_type": "markdown",
   "metadata": {},
   "source": [
    "### Dockerfile: EXPOSE, ENTRYPOINT y CMD."
   ]
  },
  {
   "attachments": {},
   "cell_type": "markdown",
   "metadata": {},
   "source": [
    "Si tu código va a estar escuchando en un puerto, EXPOSE te permite definir el puerto en el que va a estar escuchando tu aplicación.\n",
    "\n",
    "Por otro lado, ENTRYPOINT permite definir el comando que se va a ejecutar cuando se lance la imagen Docker. Por su parte, CMD permite definir los argumentos que vaya a usar ENTRYPOINT.\n",
    "\n",
    "Por ejemplo, supongamos que vamos a ejecutar nuestra API de FastAPI, y queremos que el usuario pueda definir el host y el puerto en el que se ejecuta. Es por ello que usaremos la instrucción CMD. Más en concreto, al instrucción será la siguiente:"
   ]
  },
  {
   "attachments": {},
   "cell_type": "markdown",
   "metadata": {},
   "source": [
    "> CMD [\"uvicorn\", \"app.main:app\", \"--host\", \"0.0.0.0\", \"--port\", \"8080\"]"
   ]
  },
  {
   "attachments": {},
   "cell_type": "markdown",
   "metadata": {},
   "source": [
    "### Terminando el Dockerfile"
   ]
  },
  {
   "attachments": {},
   "cell_type": "markdown",
   "metadata": {},
   "source": [
    "Considerando todo lo anterior, nuestro Dockerfile tendrá el siguiente aspecto:"
   ]
  },
  {
   "attachments": {},
   "cell_type": "markdown",
   "metadata": {},
   "source": [
    "```\n",
    "FROM tiangolo/uvicorn-gunicorn-fastapi\n",
    "COPY requirements.txt .\n",
    "RUN pip install -r requirements.txt\n",
    "RUN mkdir -p app\n",
    "COPY ./app app\n",
    "EXPOSE 8080\n",
    "CMD [\"uvicorn\", \"app.main:app\", \"--host\", \"0.0.0.0\", \"--port\", \"8080\"]\n",
    "```"
   ]
  },
  {
   "attachments": {},
   "cell_type": "markdown",
   "metadata": {},
   "source": [
    "Ahora, tendremos que guardarlo como un fichero sin extensión. El fichero deberá llamarse ``Dockerfile`` (sino no servirá)."
   ]
  },
  {
   "attachments": {},
   "cell_type": "markdown",
   "metadata": {},
   "source": [
    "Con esto, ya tenemos nuestro Dockerfile listo y podremos crear nuestra [imagen Docker](3-docker_imagen.ipynb)"
   ]
  }
 ],
 "metadata": {
  "kernelspec": {
   "display_name": "este",
   "language": "python",
   "name": "python3"
  },
  "language_info": {
   "codemirror_mode": {
    "name": "ipython",
    "version": 3
   },
   "file_extension": ".py",
   "mimetype": "text/x-python",
   "name": "python",
   "nbconvert_exporter": "python",
   "pygments_lexer": "ipython3",
   "version": "3.9.5"
  },
  "orig_nbformat": 4
 },
 "nbformat": 4,
 "nbformat_minor": 2
}
